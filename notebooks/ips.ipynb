{
 "cells": [
  {
   "cell_type": "code",
   "execution_count": 1,
   "metadata": {},
   "outputs": [],
   "source": [
    "import pandas as pd\n",
    "import matplotlib.pyplot as plt\n",
    "import seaborn as sns\n",
    "import datacompy\n",
    "import os\n",
    "import numpy as np\n",
    "from joblib import dump, load\n",
    "import pickle\n",
    "from scipy.io import arff\n",
    "\n",
    "# narzedzia\n",
    "from sklearn.model_selection import (\n",
    "    train_test_split,\n",
    "    cross_val_score,\n",
    "    cross_val_predict,\n",
    "    learning_curve,\n",
    "    RepeatedStratifiedKFold,\n",
    "    GridSearchCV\n",
    ")\n",
    "from collections import Counter\n",
    "from sklearn.metrics import classification_report, confusion_matrix\n",
    "from sklearn import tree\n",
    "from sklearn.tree import plot_tree\n",
    "from sklearn.preprocessing import LabelEncoder\n",
    "\n",
    "# modele + Smote\n",
    "from xgboost import XGBClassifier, XGBRFClassifier\n",
    "from sklearn.linear_model import LogisticRegression\n",
    "from sklearn.tree import DecisionTreeClassifier\n",
    "from sklearn.ensemble import RandomForestClassifier\n",
    "\n",
    "from imblearn.over_sampling import SMOTE, BorderlineSMOTE\n",
    "from imblearn.under_sampling import NearMiss, RandomUnderSampler, EditedNearestNeighbours, TomekLinks, NeighbourhoodCleaningRule, InstanceHardnessThreshold, OneSidedSelection, CondensedNearestNeighbour\n",
    "from ctgan import CTGAN"
   ]
  },
  {
   "cell_type": "markdown",
   "metadata": {},
   "source": [
    "### Data Preprocessing"
   ]
  },
  {
   "cell_type": "markdown",
   "metadata": {},
   "source": [
    "Focuse on service == http, drop columns which have the same values in all rows ('protocol_type', 'land', 'wrong_fragment', 'urgent', 'num_failed_logins', 'su_attempted', 'num_root', 'num_file_creations', 'num_shells', 'num_outbound_cmds', 'is_host_login', 'is_guest_login'). drop columns \"index\" and \"flag\" after dummies this column. Swap class from values \"normaly\" & \"anomaly\" to 1 & 0. "
   ]
  },
  {
   "cell_type": "code",
   "execution_count": 78,
   "metadata": {},
   "outputs": [],
   "source": [
    "#read data & use only http services\n",
    "df = pd.read_csv(\"..\\\\data\\\\IPS\\\\Train_data.csv\")\n",
    "df = df[df['service'].str.contains('http')]\n",
    "#drop columns service and protocol_type and index\n",
    "df = df.drop(columns=[\"service\"])\n",
    "df = df.reset_index()\n",
    "df = df.drop(columns=[\"protocol_type\"])\n",
    "df = df.drop(columns=[\"index\"])"
   ]
  },
  {
   "cell_type": "code",
   "execution_count": 80,
   "metadata": {},
   "outputs": [],
   "source": [
    "#split column flag\n",
    "df_dumm = pd.get_dummies(df[\"flag\"], prefix=\"flag\", dtype=int)\n",
    "col = df.columns.get_loc('flag')+1\n",
    "for col_name in reversed(df_dumm.columns):  \n",
    "    df.insert(col, col_name, df_dumm[col_name])\n",
    "df = df.drop(columns=[\"flag\"])\n",
    "\n",
    "#drop columns with one value f.g. 1 in all rows\n",
    "df['class'] = df['class'].replace({'normal': 1, 'anomaly': 0})\n",
    "df = df.drop(columns=['land', 'wrong_fragment', 'urgent', 'num_failed_logins', 'su_attempted',\n",
    "       'num_root', 'num_file_creations', 'num_shells', 'num_outbound_cmds',\n",
    "       'is_host_login', 'is_guest_login'])\n",
    "df.to_excel(\"D:\\\\ml\\\\xgboost-main\\\\data\\\\IPS\\\\http_data.xlsx\")\n",
    "\n",
    "#print column class distribution\n",
    "colum = df['class']\n",
    "print(colum.shape)\n",
    "pd.Series(colum).value_counts().plot.bar()"
   ]
  },
  {
   "cell_type": "code",
   "execution_count": 6,
   "metadata": {},
   "outputs": [
    {
     "name": "stdout",
     "output_type": "stream",
     "text": [
      "service\n",
      "http        7853\n",
      "http_443      36\n",
      "Name: count, dtype: int64\n"
     ]
    }
   ],
   "source": [
    "df_test = pd.read_csv(\"..\\\\data\\\\IPS\\\\Test_data.csv\")\n",
    "df_test = df_test[df_test['service'].str.contains('http')]\n",
    "colum = df_test['service'].value_counts()\n",
    "print(colum)"
   ]
  }
 ],
 "metadata": {
  "kernelspec": {
   "display_name": "python8",
   "language": "python",
   "name": "python3"
  },
  "language_info": {
   "codemirror_mode": {
    "name": "ipython",
    "version": 3
   },
   "file_extension": ".py",
   "mimetype": "text/x-python",
   "name": "python",
   "nbconvert_exporter": "python",
   "pygments_lexer": "ipython3",
   "version": "3.8.20"
  }
 },
 "nbformat": 4,
 "nbformat_minor": 2
}
