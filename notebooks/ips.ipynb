{
 "cells": [
  {
   "cell_type": "code",
   "execution_count": 1,
   "metadata": {},
   "outputs": [],
   "source": [
    "import pandas as pd\n",
    "import matplotlib.pyplot as plt\n",
    "import seaborn as sns\n",
    "import datacompy\n",
    "import os\n",
    "import numpy as np\n",
    "from joblib import dump, load\n",
    "import pickle\n",
    "from scipy.io import arff\n",
    "\n",
    "# narzedzia\n",
    "from sklearn.model_selection import (\n",
    "    train_test_split,\n",
    "    cross_val_score,\n",
    "    cross_val_predict,\n",
    "    learning_curve,\n",
    "    RepeatedStratifiedKFold,\n",
    "    GridSearchCV\n",
    ")\n",
    "from collections import Counter\n",
    "from sklearn.metrics import classification_report, confusion_matrix\n",
    "from sklearn import tree\n",
    "from sklearn.tree import plot_tree\n",
    "from sklearn.preprocessing import LabelEncoder\n",
    "\n",
    "# modele + Smote\n",
    "from xgboost import XGBClassifier, XGBRFClassifier\n",
    "from sklearn.linear_model import LogisticRegression\n",
    "from sklearn.tree import DecisionTreeClassifier\n",
    "from sklearn.ensemble import RandomForestClassifier\n",
    "\n",
    "from imblearn.over_sampling import SMOTE, BorderlineSMOTE\n",
    "from imblearn.under_sampling import NearMiss, RandomUnderSampler, EditedNearestNeighbours, TomekLinks, NeighbourhoodCleaningRule, InstanceHardnessThreshold, OneSidedSelection, CondensedNearestNeighbour\n",
    "from ctgan import CTGAN"
   ]
  },
  {
   "cell_type": "markdown",
   "metadata": {},
   "source": [
    "### Data Preprocessing"
   ]
  },
  {
   "cell_type": "markdown",
   "metadata": {},
   "source": [
    "Focuse on service == http, drop columns which have the same values in all rows ('protocol_type', 'land', 'wrong_fragment', 'urgent', 'num_failed_logins', 'su_attempted', 'num_root', 'num_file_creations', 'num_shells', 'num_outbound_cmds', 'is_host_login', 'is_guest_login'). drop columns \"index\" and \"flag\" after dummies this column. Swap class from values \"normaly\" & \"anomaly\" to 1 & 0. "
   ]
  },
  {
   "cell_type": "code",
   "execution_count": 10,
   "metadata": {},
   "outputs": [],
   "source": [
    "#read data & use only http services\n",
    "df = pd.read_csv(\"..\\\\data\\\\IPS\\\\Train_data.csv\")\n",
    "df = df[df['service'].str.contains('http')]\n",
    "df = df[df['service'] != 'http_8001']\n",
    "df = df.drop(columns=[\"service\"])\n",
    "df = df.reset_index()\n",
    "df = df.drop(columns=[\"protocol_type\"])\n",
    "df = df.drop(columns=[\"index\"])"
   ]
  },
  {
   "cell_type": "code",
   "execution_count": 11,
   "metadata": {},
   "outputs": [
    {
     "name": "stdout",
     "output_type": "stream",
     "text": [
      "(8116,)\n"
     ]
    },
    {
     "data": {
      "text/plain": [
       "<Axes: xlabel='class'>"
      ]
     },
     "execution_count": 11,
     "metadata": {},
     "output_type": "execute_result"
    },
    {
     "data": {
      "image/png": "[encoded data removed]",
      "text/plain": [
       "<Figure size 640x480 with 1 Axes>"
      ]
     },
     "metadata": {},
     "output_type": "display_data"
    }
   ],
   "source": [
    "#split column flag\n",
    "df_dumm = pd.get_dummies(df[\"flag\"], prefix=\"flag\", dtype=int)\n",
    "col = df.columns.get_loc('flag')+1\n",
    "for col_name in reversed(df_dumm.columns):  \n",
    "    df.insert(col, col_name, df_dumm[col_name])\n",
    "df = df.drop(columns=[\"flag\"])\n",
    "\n",
    "#drop columns with one value f.g. 1 in all rows\n",
    "df['class'] = df['class'].replace({'normal': 1, 'anomaly': 0})\n",
    "df = df.drop(columns=['land', 'wrong_fragment', 'urgent', 'num_failed_logins', 'su_attempted',\n",
    "       'num_root', 'num_file_creations', 'num_shells', 'num_outbound_cmds',\n",
    "       'is_host_login', 'is_guest_login'])\n",
    "df.to_excel(\"D:\\\\ml\\\\xgboost-main\\\\data\\\\IPS\\\\http_data.xlsx\")\n",
    "\n",
    "#print column class distribution\n",
    "colum = df['class']\n",
    "print(colum.shape)\n",
    "pd.Series(colum).value_counts().plot.bar()"
   ]
  },
  {
   "cell_type": "markdown",
   "metadata": {},
   "source": [
    "### Training & Test Data"
   ]
  },
  {
   "cell_type": "code",
   "execution_count": 17,
   "metadata": {},
   "outputs": [],
   "source": [
    "#X and y \n",
    "X = df.drop(columns=['class'])\n",
    "y = df['class']\n",
    "\n",
    "#split data on test and train\n",
    "X_train, X_test, y_train, y_test = train_test_split(X, y, test_size=0.2, random_state=42)\n",
    "\n",
    "#concat X_train & y_train -> used to save files\n",
    "df_train = pd.concat([X_train, y_train], axis=1)          \n",
    "df_train['source'] = 'original'  \n",
    "df_train.to_csv(\"D:\\\\ml\\\\xgboost-main\\\\data\\\\IPS\\\\original_data.csv\")\n",
    "\n",
    "#save test samples\n",
    "y_test.to_csv(\"D:\\\\ml\\\\xgboost-main\\\\data\\\\IPS\\\\test_data\\\\y_test.csv\")\n",
    "X_test.to_csv(\"D:\\\\ml\\\\xgboost-main\\\\data\\\\IPS\\\\test_data\\\\X_test.csv\")"
   ]
  },
  {
   "cell_type": "markdown",
   "metadata": {},
   "source": [
    "## OVERSAMPLING"
   ]
  },
  {
   "cell_type": "markdown",
   "metadata": {},
   "source": [
    "### SMOTE"
   ]
  },
  {
   "cell_type": "code",
   "execution_count": 18,
   "metadata": {},
   "outputs": [
    {
     "name": "stdout",
     "output_type": "stream",
     "text": [
      "Przed Counter({1: 6045, 0: 447})\n",
      "Po Counter({1: 6045, 0: 6045})\n",
      "(12090, 37) (12090,)\n"
     ]
    },
    {
     "data": {
      "image/png": "[encoded data removed]",
      "text/plain": [
       "<Figure size 640x480 with 1 Axes>"
      ]
     },
     "metadata": {},
     "output_type": "display_data"
    }
   ],
   "source": [
    "file_path1 = \"D:\\\\ml\\\\xgboost-main\\\\data\\\\IPS\\\\smote_data.csv\"\n",
    "#generate new data by SMOTE\n",
    "con = Counter(y_train)\n",
    "print(\"Przed\", con)\n",
    "smote = SMOTE(random_state=42)\n",
    "X_train_sm, y_train_sm = smote.fit_resample(X_train, y_train)\n",
    "con1 = Counter(y_train_sm)\n",
    "print(\"Po\", con1)\n",
    "\n",
    "#concat smote train X & y && save data\n",
    "train_data_smote = pd.concat([X_train_sm, y_train_sm], axis=1)          #polaczenie danych wygenerowanych X_train oraz y_train\n",
    "train_data_smote['generated_by_smote'] = ['original' if i < len(df_train) else 'smote' for i in range(len(train_data_smote))]\n",
    "smote_data = train_data_smote[train_data_smote['generated_by_smote'] == 'smote'].drop('generated_by_smote', axis=1)\n",
    "smote_data[\"source\"]=\"smote\"\n",
    "\n",
    "if not os.path.exists(file_path1):\n",
    "    smote_data.to_csv(file_path1, index=False)\n",
    "else:\n",
    "    print(f'Plik istnieje pod ścieżką: {file_path1}')\n",
    "\n",
    "pd.Series(y_train_sm).value_counts().plot.bar()"
   ]
  },
  {
   "cell_type": "markdown",
   "metadata": {},
   "source": [
    "### BorderLine SMOTE"
   ]
  },
  {
   "cell_type": "code",
   "execution_count": 19,
   "metadata": {},
   "outputs": [
    {
     "name": "stdout",
     "output_type": "stream",
     "text": [
      "Przed Counter({1: 6045, 0: 447})\n",
      "Po Counter({1: 6045, 0: 6045})\n"
     ]
    },
    {
     "data": {
      "text/plain": [
       "<Axes: xlabel='class'>"
      ]
     },
     "execution_count": 19,
     "metadata": {},
     "output_type": "execute_result"
    },
    {
     "data": {
      "image/png": "[encoded data removed]",
      "text/plain": [
       "<Figure size 640x480 with 1 Axes>"
      ]
     },
     "metadata": {},
     "output_type": "display_data"
    }
   ],
   "source": [
    "file_path2 = \"D:\\\\ml\\\\xgboost-main\\\\data\\\\IPS\\\\borderlinesmote_data.csv\"\n",
    "#generate new data by borderLineSMOTE\n",
    "con3 = Counter(y_train)\n",
    "print(\"Przed\", con3)\n",
    "brdsmote = BorderlineSMOTE(random_state=42)\n",
    "X_train_bsm, y_train_bsm = brdsmote.fit_resample(X_train, y_train)\n",
    "con4 = Counter(y_train_bsm)\n",
    "print(\"Po\", con4)\n",
    "\n",
    "train_data_borderline_smote = pd.concat([X_train_bsm, y_train_bsm], axis=1)          #polaczenie danych wygenerowanych X_train oraz y_train\n",
    "train_data_borderline_smote['generated_by_borderline_smote'] = ['original' if i < len(df_train) else 'brd smote' for i in range(len(train_data_borderline_smote))]\n",
    "borderline_smote_data = train_data_borderline_smote[train_data_borderline_smote['generated_by_borderline_smote'] == 'brd smote'].drop('generated_by_borderline_smote', axis=1)\n",
    "borderline_smote_data[\"source\"]=\"borderline smote\"\n",
    "if not os.path.exists(file_path2):\n",
    "    borderline_smote_data.to_csv(file_path2, index=False)\n",
    "else:\n",
    "    print(f'Plik istnieje pod ścieżką: {file_path2}')\n",
    "\n",
    "pd.Series(y_train_bsm).value_counts().plot.bar()"
   ]
  },
  {
   "cell_type": "markdown",
   "metadata": {},
   "source": [
    "### GAN"
   ]
  },
  {
   "cell_type": "code",
   "execution_count": 20,
   "metadata": {},
   "outputs": [
    {
     "name": "stdout",
     "output_type": "stream",
     "text": [
      "Dane wygenerowane:  class\n",
      "0    5598\n",
      "Name: count, dtype: int64\n",
      "Before Counter({1: 6045, 0: 447})\n",
      "After Counter({1: 6045, 0: 6045})\n"
     ]
    },
    {
     "data": {
      "text/plain": [
       "<Axes: xlabel='class'>"
      ]
     },
     "execution_count": 20,
     "metadata": {},
     "output_type": "execute_result"
    },
    {
     "data": {
      "image/png": "[encoded data removed]",
      "text/plain": [
       "<Figure size 640x480 with 1 Axes>"
      ]
     },
     "metadata": {},
     "output_type": "display_data"
    }
   ],
   "source": [
    "file_path3 = \"D:\\\\ml\\\\xgboost-main\\\\data\\\\IPS\\\\GAN_data.csv\"        #sciezka wraz z nazwa pod jaka wygenerowac plik\n",
    "#generate new data by GAN\n",
    "columns_list = df_train.columns\n",
    "target_num = df_train['class'].value_counts()\n",
    "ctgan = CTGAN(epochs=10)        #model\n",
    "\n",
    "if target_num[0] > target_num[1]:\n",
    "    data_y1 = df_train[df_train['']==1]\n",
    "    ctgan.fit(data_y1, columns_list)\n",
    "    sample = abs(target_num[0]-target_num[1])\n",
    "    df_GAN = ctgan.sample(sample)\n",
    "    print('Dane wygenerowane: ', df_GAN['class'].value_counts())\n",
    "    balanced_data = pd.concat([df_train, df_GAN], ignore_index=False)\n",
    "else:\n",
    "    data_y0 = df_train[df_train['class']==0]\n",
    "    ctgan.fit(data_y0, columns_list)\n",
    "    sample = abs(target_num[0]-target_num[1])\n",
    "    df_GAN = ctgan.sample(sample)\n",
    "    print('Dane wygenerowane: ', df_GAN['class'].value_counts())\n",
    "    balanced_data = pd.concat([df_train, df_GAN], ignore_index=False)\n",
    "\n",
    "balanced_data = balanced_data.drop(columns=[\"source\"])  \n",
    "y_train_gan = balanced_data[\"class\"]\n",
    "X_train_gan = balanced_data.drop(columns=[\"class\"])\n",
    "con5 = Counter(y_train)\n",
    "print(\"Before\", con5)\n",
    "con6 = Counter(y_train_gan)\n",
    "print(\"After\", con6)\n",
    "df_GAN[\"source\"]=\"gan\"\n",
    "gan_data = df_GAN\n",
    "if not os.path.exists(file_path3):\n",
    "    gan_data.to_csv(file_path3, index=False)\n",
    "else:\n",
    "    print(f'Plik istnieje pod ścieżką: {file_path3}')\n",
    "\n",
    "pd.Series(y_train_gan).value_counts().plot.bar()"
   ]
  },
  {
   "cell_type": "markdown",
   "metadata": {},
   "source": [
    "### Models & fit_data"
   ]
  },
  {
   "cell_type": "code",
   "execution_count": null,
   "metadata": {},
   "outputs": [],
   "source": [
    "models = {\n",
    "    \"LR\": LogisticRegression(),\n",
    "    \"LR_SMOTE\": LogisticRegression(),\n",
    "    \"LR_BrdSMOTE\": LogisticRegression(),\n",
    "    \"LR_GAN\": LogisticRegression(),\n",
    "    \n",
    "    \"DT\": DecisionTreeClassifier(),\n",
    "    \"DT_SMOTE\": DecisionTreeClassifier(),\n",
    "    \"DT_BrdSMOTE\": DecisionTreeClassifier(),\n",
    "    \"DT_GAN\": DecisionTreeClassifier(),\n",
    "    \n",
    "    \"RF\": RandomForestClassifier(),\n",
    "    \"RF_SMOTE\": RandomForestClassifier(),\n",
    "    \"RF_BrdSMOTE\": RandomForestClassifier(),\n",
    "    \"RF_GAN\": RandomForestClassifier(),\n",
    "    \n",
    "    \"XGB\": XGBClassifier(),\n",
    "    \"XGB_SMOTE\": XGBClassifier(),\n",
    "    \"XGB_BrdSMOTE\": XGBClassifier(),\n",
    "    \"XGB_GAN\": XGBClassifier(),\n",
    "    \n",
    "    \"XGB_RF\": XGBRFClassifier(),\n",
    "    \"XGB_RF_SMOTE\": XGBRFClassifier(),\n",
    "    \"XGB_RF_BrdSMOTE\": XGBRFClassifier(),\n",
    "    \"XGB_RF_GAN\": XGBRFClassifier()\n",
    "}\n",
    "\n",
    "\n",
    "fit_data = {\n",
    "    \n",
    "    \"LR\": (X_train, y_train),\n",
    "    \"LR_SMOTE\": (X_train_sm, y_train_sm),\n",
    "    \"LR_BrdSMOTE\": (X_train_bsm, y_train_bsm),\n",
    "    \"LR_GAN\": (X_train_gan, y_train_gan),\n",
    "    \n",
    "    \"DT\": (X_train, y_train),\n",
    "    \"DT_SMOTE\": (X_train_sm, y_train_sm),\n",
    "    \"DT_BrdSMOTE\": (X_train_bsm, y_train_bsm),\n",
    "    \"DT_GAN\": (X_train_gan, y_train_gan),\n",
    "    \n",
    "    \"RF\": (X_train, y_train),\n",
    "    \"RF_SMOTE\": (X_train_sm, y_train_sm),\n",
    "    \"RF_BrdSMOTE\": (X_train_bsm, y_train_bsm),\n",
    "    \"RF_GAN\": (X_train_gan, y_train_gan),\n",
    "    \n",
    "    \"XGB\": (X_train, y_train),\n",
    "    \"XGB_SMOTE\": (X_train_sm, y_train_sm),\n",
    "    \"XGB_BrdSMOTE\": (X_train_bsm, y_train_bsm),\n",
    "    \"XGB_GAN\": (X_train_gan, y_train_gan),\n",
    "\n",
    "    \"XGB_RF\": (X_train, y_train),\n",
    "    \"XGB_RF_SMOTE\": (X_train_sm, y_train_sm),\n",
    "    \"XGB_RF_BrdSMOTE\": (X_train_bsm, y_train_bsm),\n",
    "    \"XGB_RF_GAN\": (X_train_gan, y_train_gan)\n",
    "}"
   ]
  },
  {
   "cell_type": "markdown",
   "metadata": {},
   "source": [
    "### GridSearch"
   ]
  },
  {
   "cell_type": "code",
   "execution_count": null,
   "metadata": {},
   "outputs": [],
   "source": [
    "#time +- 140min\n",
    "params = {\n",
    "    #LR\n",
    "    \"LR\": {\n",
    "        'max_iter': [100, 500, 1000],       # Liczba iteracji\n",
    "        'random_state': [0, 10, 20, 30, 40]}, # Losowość dla powtarzalności\n",
    "    \n",
    "    \"LR_SMOTE\": {\n",
    "        'max_iter': [100, 500, 1000],\n",
    "        'random_state': [0, 10, 20, 30, 40]},\n",
    "    \n",
    "    \"LR_BrdSMOTE\": {\n",
    "        'max_iter': [100, 500, 1000],\n",
    "        'random_state': [0, 10, 20, 30, 40]},\n",
    "    \n",
    "    \"LR_GAN\": {\n",
    "        'max_iter': [100, 500, 1000],\n",
    "        'random_state': [0, 10, 20, 30, 40]},\n",
    "    \n",
    "    #DT\n",
    "    \"DT\": {\n",
    "        'max_depth':[4,8,12,16],                # maksymalna głębokość drzewa\n",
    "        'random_state':[0,10,20,30,40],         # ustalona losowość dla powtarzalności\n",
    "        'min_samples_leaf':[1,2]},              # minimalna ilosc probek lisci\n",
    "    \n",
    "    \"DT_SMOTE\": {\n",
    "        'max_depth':[4,8,12,16],                \n",
    "        'random_state':[0,10,20,30,40],         \n",
    "        'min_samples_leaf':[1,2]},\n",
    "    \n",
    "    \"DT_BrdSMOTE\": {\n",
    "        'max_depth':[4,8,12,16],                \n",
    "        'random_state':[0,10,20,30,40],         \n",
    "        'min_samples_leaf':[1,2]},\n",
    "    \n",
    "    \"DT_GAN\": {\n",
    "        'max_depth':[4,8,12,16],                \n",
    "        'random_state':[0,10,20,30,40],         \n",
    "        'min_samples_leaf':[1,2]},\n",
    "    \n",
    "    #RF\n",
    "    \"RF\": {\n",
    "        'n_estimators':[20,40,60,80,100],       # rozmiar lasu\n",
    "        'max_depth':[4,8,12,16],                # maksymalna głębokość drzewa\n",
    "        'min_samples_leaf':[1,2],               # minimalna ilosc probek lisci\n",
    "        'random_state':[0,10,20,30,40]},         # ustalona losowość dla powtarzalności\n",
    "    \n",
    "    \"RF_SMOTE\": {\n",
    "        'n_estimators':[20,40,60,80,100],      \n",
    "        'max_depth':[4,8,12,16],              \n",
    "        'min_samples_leaf':[1,2],               \n",
    "        'random_state':[0,10,20,30,40]},        \n",
    "\n",
    "    \"RF_BrdSMOTE\": {\n",
    "        'n_estimators':[20,40,60,80,100],      \n",
    "        'max_depth':[4,8,12,16],              \n",
    "        'min_samples_leaf':[1,2],               \n",
    "        'random_state':[0,10,20,30,40]},    \n",
    "    \n",
    "    \"RF_GAN\": {\n",
    "        'n_estimators':[20,40,60,80,100],      \n",
    "        'max_depth':[4,8,12,16],              \n",
    "        'min_samples_leaf':[1,2],               \n",
    "        'random_state':[0,10,20,30,40]},    \n",
    "    \n",
    "    #XGB\n",
    "    \"XGB\": {\n",
    "        'max_depth':[4,8,12,16],                # maksymalna głębokość drzewa\n",
    "        'subsample':[0.5,0.6,0.7,0.8,0.9,1]},\n",
    "    \n",
    "    \"XGB_SMOTE\": {\n",
    "        'max_depth':[4,8,12,16],                \n",
    "        'subsample':[0.5,0.6,0.7,0.8,0.9,1]},\n",
    "    \n",
    "    \"XGB_BrdSMOTE\": {\n",
    "        'max_depth':[4,8,12,16],                \n",
    "        'subsample':[0.5,0.6,0.7,0.8,0.9,1]},\n",
    "    \n",
    "    \"XGB_GAN\": {\n",
    "        'max_depth':[4,8,12,16],                \n",
    "        'subsample':[0.5,0.6,0.7,0.8,0.9,1]},\n",
    "    \n",
    "    #XGB_RF\n",
    "    \"XGB_RF\": {\n",
    "        'max_depth':[4,8,12,16],                # maksymalna głębokość drzewa\n",
    "        'n_estimators':[20,40,60,80,100],       # rozmiar lasu\n",
    "        'subsample':[0.5,0.6,0.7,0.8,0.9,1],\n",
    "        'random_state':[0,10,20,30,40]},        # ustalona losowość dla powtarzalności\n",
    "    \n",
    "    \"XGB_RF_SMOTE\": {\n",
    "        'max_depth':[4,8,12,16],                \n",
    "        'n_estimators':[20,40,60,80,100],       \n",
    "        'subsample':[0.5,0.6,0.7,0.8,0.9,1],\n",
    "        'random_state':[0,10,20,30,40]},    \n",
    "    \n",
    "    \"XGB_RF_BrdSMOTE\": {\n",
    "        'max_depth':[4,8,12,16],                \n",
    "        'n_estimators':[20,40,60,80,100],       \n",
    "        'subsample':[0.5,0.6,0.7,0.8,0.9,1],\n",
    "        'random_state':[0,10,20,30,40]},  \n",
    "    \n",
    "    \"XGB_RF_GAN\": {\n",
    "        'max_depth':[4,8,12,16],                \n",
    "        'n_estimators':[20,40,60,80,100],       \n",
    "        'subsample':[0.5,0.6,0.7,0.8,0.9,1],\n",
    "        'random_state':[0,10,20,30,40]}     \n",
    "}\n",
    "path_files = [\"D:\\\\ml\\\\xgboost-main\\\\reports\\\\gridsearch_IPS\\\\precision_metrics.txt\", \n",
    "              \"D:\\\\ml\\\\xgboost-main\\\\reports\\\\gridsearch_IPS\\\\f1_metrics.txt\", \n",
    "              \"D:\\\\ml\\\\xgboost-main\\\\reports\\\\gridsearch_IPS\\\\recall_metrics.txt\", \n",
    "              \"D:\\\\ml\\\\xgboost-main\\\\reports\\\\gridsearch_IPS\\\\accuracy_metrics.txt\"]\n",
    "excel_file = \"D:\\\\ml\\\\xgboost-main\\\\reports\\\\gridsearch_IPS\\\\results.xlsx\"\n",
    "excel_file1 = \"D:\\\\ml\\\\xgboost-main\\\\reports\\\\gridsearch_IPS\\\\std.xlsx\"\n",
    "excel_file2 = \"D:\\\\ml\\\\xgboost-main\\\\reports\\\\gridsearch_IPS\\\\best.xlsx\"\n",
    "name_sheet1 = \"Arkusz1\"\n",
    "name_sheet2 = \"Arkusz2\"\n",
    "results1 = []\n",
    "results2 = []\n",
    "results3 = []\n",
    "goal = ['precision', 'recall', 'f1', 'accuracy']\n",
    "\n",
    "for metrix1 in goal:\n",
    "    for model_name, model in models.items():\n",
    "        \n",
    "        X_train, y_train = fit_data[model_name]\n",
    "        params_ = params[model_name]\n",
    "        model_Grid = GridSearchCV(model,param_grid=params_,scoring=metrix1, n_jobs=-1).fit(X_train,y_train)\n",
    "            \n",
    "        #save to txt file\n",
    "        results1.append({\n",
    "        \"Model\": model_name,\n",
    "        \"Metric\": metrix1,\n",
    "        \"Result\": model_Grid.best_score_})\n",
    "        results2.append({\n",
    "        \"Model\": model_name,\n",
    "        \"Metric\": metrix1,\n",
    "        \"Std\":model_Grid.cv_results_['std_test_score'][model_Grid.best_index_]})\n",
    "        results3.append({\n",
    "        \"Model\": model_name,\n",
    "        \"Metric\": metrix1,\n",
    "        \"Best\":model_Grid.best_params_})\n",
    "        df_results1 = pd.DataFrame(results1)\n",
    "        df_results2 = pd.DataFrame(results2)\n",
    "        df_results3 = pd.DataFrame(results3)\n",
    "        df_save_mean = df_results1.pivot(index=\"Metric\", columns=\"Model\", values=\"Result\")\n",
    "        df_save_std = df_results2.pivot(index=\"Metric\", columns=\"Model\", values=\"Std\")\n",
    "        df_save_std2 = df_results3.pivot(index=\"Metric\", columns=\"Model\", values=\"Best\")\n",
    "        with pd.ExcelFile(excel_file) as w:\n",
    "            df_save_mean.to_excel(w, sheet_name=name_sheet1)\n",
    "        with pd.ExcelFile(excel_file1) as w1:\n",
    "            df_save_std.to_excel(w1, sheet_name=name_sheet1)\n",
    "        with pd.ExcelFile(excel_file2) as w2:\n",
    "            df_save_std2.to_excel(w2, sheet_name=name_sheet1)\n",
    "            \n",
    "        "
   ]
  }
 ],
 "metadata": {
  "kernelspec": {
   "display_name": "python8",
   "language": "python",
   "name": "python3"
  },
  "language_info": {
   "codemirror_mode": {
    "name": "ipython",
    "version": 3
   },
   "file_extension": ".py",
   "mimetype": "text/x-python",
   "name": "python",
   "nbconvert_exporter": "python",
   "pygments_lexer": "ipython3",
   "version": "3.8.20"
  }
 },
 "nbformat": 4,
 "nbformat_minor": 2
}
