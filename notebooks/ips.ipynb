{
 "cells": [
  {
   "cell_type": "code",
   "execution_count": 10,
   "metadata": {},
   "outputs": [],
   "source": [
    "import pandas as pd\n",
    "import matplotlib.pyplot as plt\n",
    "import seaborn as sns\n",
    "import datacompy\n",
    "import os\n",
    "import numpy as np\n",
    "from joblib import dump, load\n",
    "import pickle\n",
    "from scipy.io import arff\n",
    "\n",
    "# narzedzia\n",
    "from sklearn.model_selection import (\n",
    "    train_test_split,\n",
    "    cross_val_score,\n",
    "    cross_val_predict,\n",
    "    learning_curve,\n",
    "    RepeatedStratifiedKFold,\n",
    "    GridSearchCV\n",
    ")\n",
    "from collections import Counter\n",
    "from sklearn.metrics import classification_report, confusion_matrix\n",
    "from sklearn import tree\n",
    "from sklearn.tree import plot_tree\n",
    "from sklearn.preprocessing import LabelEncoder\n",
    "\n",
    "# modele + Smote\n",
    "from xgboost import XGBClassifier, XGBRFClassifier\n",
    "from sklearn.linear_model import LogisticRegression\n",
    "from sklearn.tree import DecisionTreeClassifier\n",
    "from sklearn.ensemble import RandomForestClassifier\n",
    "\n",
    "from imblearn.over_sampling import SMOTE, BorderlineSMOTE\n",
    "from imblearn.under_sampling import NearMiss, RandomUnderSampler, EditedNearestNeighbours, TomekLinks, NeighbourhoodCleaningRule, InstanceHardnessThreshold, OneSidedSelection, CondensedNearestNeighbour\n",
    "from ctgan import CTGAN"
   ]
  },
  {
   "cell_type": "markdown",
   "metadata": {},
   "source": [
    "### Data Preprocessing"
   ]
  },
  {
   "cell_type": "markdown",
   "metadata": {},
   "source": [
    "Focuse on service == http, drop columns which have the same values in all rows ('protocol_type', 'land', 'wrong_fragment', 'urgent', 'num_failed_logins', 'su_attempted', 'num_root', 'num_file_creations', 'num_shells', 'num_outbound_cmds', 'is_host_login', 'is_guest_login'). drop columns \"index\" and \"flag\" after dummies this column. Swap class from values \"normaly\" & \"anomaly\" to 1 & 0. "
   ]
  },
  {
   "cell_type": "code",
   "execution_count": 78,
   "metadata": {},
   "outputs": [],
   "source": [
    "df = pd.read_csv(\"..\\\\data\\\\IPS\\\\Train_data.csv\")\n",
    "df = df[df['service'].str.contains('http')]\n",
    "df = df.drop(columns=[\"service\"])\n",
    "df = df.reset_index()\n",
    "df = df.drop(columns=[\"protocol_type\"])\n",
    "df = df.drop(columns=[\"index\"])"
   ]
  },
  {
   "cell_type": "code",
   "execution_count": 79,
   "metadata": {},
   "outputs": [
    {
     "name": "stdout",
     "output_type": "stream",
     "text": [
      "flag\n",
      "SF      7104\n",
      "REJ      556\n",
      "S0       351\n",
      "S1        42\n",
      "RSTR      25\n",
      "RSTO      16\n",
      "S2        15\n",
      "S3         6\n",
      "SH         1\n",
      "OTH        1\n",
      "Name: count, dtype: int64\n",
      "      duration flag  src_bytes  dst_bytes  land  wrong_fragment  urgent  hot  \\\n",
      "0            0   SF        232       8153     0               0       0    0   \n",
      "1            0   SF        199        420     0               0       0    0   \n",
      "2            0   SF        287       2251     0               0       0    0   \n",
      "3            0   SF        300      13788     0               0       0    0   \n",
      "4            0   SF        233        616     0               0       0    0   \n",
      "...        ...  ...        ...        ...   ...             ...     ...  ...   \n",
      "8112         0   SF       2499       2737     0               0       0    0   \n",
      "8113         0   SF        193       2408     0               0       0    0   \n",
      "8114         0   SF        252       6160     0               0       0    0   \n",
      "8115         0   SF        293       2486     0               0       0    0   \n",
      "8116         0   S1        339      14600     0               0       0    0   \n",
      "\n",
      "      num_failed_logins  logged_in  ...  dst_host_srv_count  \\\n",
      "0                     0          1  ...                 255   \n",
      "1                     0          1  ...                 255   \n",
      "2                     0          1  ...                 219   \n",
      "3                     0          1  ...                 255   \n",
      "4                     0          1  ...                 255   \n",
      "...                 ...        ...  ...                 ...   \n",
      "8112                  0          1  ...                 255   \n",
      "8113                  0          1  ...                 255   \n",
      "8114                  0          1  ...                 255   \n",
      "8115                  0          1  ...                 255   \n",
      "8116                  0          1  ...                 255   \n",
      "\n",
      "      dst_host_same_srv_rate  dst_host_diff_srv_rate  \\\n",
      "0                        1.0                     0.0   \n",
      "1                        1.0                     0.0   \n",
      "2                        1.0                     0.0   \n",
      "3                        1.0                     0.0   \n",
      "4                        1.0                     0.0   \n",
      "...                      ...                     ...   \n",
      "8112                     1.0                     0.0   \n",
      "8113                     1.0                     0.0   \n",
      "8114                     1.0                     0.0   \n",
      "8115                     1.0                     0.0   \n",
      "8116                     1.0                     0.0   \n",
      "\n",
      "      dst_host_same_src_port_rate  dst_host_srv_diff_host_rate  \\\n",
      "0                            0.03                         0.04   \n",
      "1                            0.00                         0.00   \n",
      "2                            0.12                         0.03   \n",
      "3                            0.01                         0.02   \n",
      "4                            0.02                         0.03   \n",
      "...                           ...                          ...   \n",
      "8112                         0.03                         0.05   \n",
      "8113                         0.00                         0.00   \n",
      "8114                         0.33                         0.04   \n",
      "8115                         0.00                         0.00   \n",
      "8116                         0.01                         0.01   \n",
      "\n",
      "      dst_host_serror_rate  dst_host_srv_serror_rate  dst_host_rerror_rate  \\\n",
      "0                     0.03                      0.01                  0.00   \n",
      "1                     0.00                      0.00                  0.00   \n",
      "2                     0.00                      0.00                  0.00   \n",
      "3                     0.00                      0.00                  0.00   \n",
      "4                     0.00                      0.00                  0.02   \n",
      "...                    ...                       ...                   ...   \n",
      "8112                  0.00                      0.00                  0.00   \n",
      "8113                  0.00                      0.00                  0.00   \n",
      "8114                  0.00                      0.00                  0.00   \n",
      "8115                  0.00                      0.00                  0.00   \n",
      "8116                  0.01                      0.00                  0.01   \n",
      "\n",
      "      dst_host_srv_rerror_rate   class  \n",
      "0                         0.01  normal  \n",
      "1                         0.00  normal  \n",
      "2                         0.00  normal  \n",
      "3                         0.00  normal  \n",
      "4                         0.00  normal  \n",
      "...                        ...     ...  \n",
      "8112                      0.00  normal  \n",
      "8113                      0.00  normal  \n",
      "8114                      0.00  normal  \n",
      "8115                      0.00  normal  \n",
      "8116                      0.00  normal  \n",
      "\n",
      "[8117 rows x 40 columns]\n"
     ]
    }
   ],
   "source": [
    "colum = df['flag'].value_counts()\n",
    "print(colum)\n",
    "print(df)"
   ]
  },
  {
   "cell_type": "code",
   "execution_count": 80,
   "metadata": {},
   "outputs": [],
   "source": [
    "#split column flag\n",
    "df_dumm = pd.get_dummies(df[\"flag\"], prefix=\"flag\", dtype=int)\n",
    "col = df.columns.get_loc('flag')+1\n",
    "for col_name in reversed(df_dumm.columns):  \n",
    "    df.insert(col, col_name, df_dumm[col_name])\n",
    "df = df.drop(columns=[\"flag\"])\n",
    "df['class'] = df['class'].replace({'normal': 1, 'anomaly': 0})"
   ]
  },
  {
   "cell_type": "code",
   "execution_count": 88,
   "metadata": {},
   "outputs": [],
   "source": [
    "df = df.drop(columns=['land', 'wrong_fragment', 'urgent', 'num_failed_logins', 'su_attempted',\n",
    "       'num_root', 'num_file_creations', 'num_shells', 'num_outbound_cmds',\n",
    "       'is_host_login', 'is_guest_login'])"
   ]
  },
  {
   "cell_type": "code",
   "execution_count": 89,
   "metadata": {},
   "outputs": [],
   "source": [
    "df.head()\n",
    "df.to_excel(\"D:\\\\ml\\\\xgboost-main\\\\data\\\\IPS\\\\http_data.xlsx\")"
   ]
  },
  {
   "cell_type": "code",
   "execution_count": 95,
   "metadata": {},
   "outputs": [
    {
     "name": "stdout",
     "output_type": "stream",
     "text": [
      "(8117,)\n"
     ]
    },
    {
     "data": {
      "text/plain": [
       "<Axes: xlabel='class'>"
      ]
     },
     "execution_count": 95,
     "metadata": {},
     "output_type": "execute_result"
    },
    {
     "data": {
      "image/png": "[encoded data removed]",
      "text/plain": [
       "<Figure size 640x480 with 1 Axes>"
      ]
     },
     "metadata": {},
     "output_type": "display_data"
    }
   ],
   "source": [
    "colum = df['class']\n",
    "print(colum.shape)\n",
    "pd.Series(colum).value_counts().plot.bar()"
   ]
  }
 ],
 "metadata": {
  "kernelspec": {
   "display_name": "python8",
   "language": "python",
   "name": "python3"
  },
  "language_info": {
   "codemirror_mode": {
    "name": "ipython",
    "version": 3
   },
   "file_extension": ".py",
   "mimetype": "text/x-python",
   "name": "python",
   "nbconvert_exporter": "python",
   "pygments_lexer": "ipython3",
   "version": "3.8.20"
  }
 },
 "nbformat": 4,
 "nbformat_minor": 2
}
