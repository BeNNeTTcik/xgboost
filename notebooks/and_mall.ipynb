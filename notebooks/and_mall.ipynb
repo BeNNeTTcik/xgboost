{
 "cells": [
  {
   "cell_type": "code",
   "execution_count": null,
   "metadata": {},
   "outputs": [],
   "source": [
    "import pandas as pd\n",
    "import matplotlib.pyplot as plt\n",
    "import seaborn as sns\n",
    "import datacompy\n",
    "import os\n",
    "import numpy as np\n",
    "from joblib import dump, load\n",
    "import pickle\n",
    "from scipy.io import arff\n",
    "\n",
    "# narzedzia\n",
    "from sklearn.model_selection import (\n",
    "    train_test_split,\n",
    "    cross_val_score,\n",
    "    cross_val_predict,\n",
    "    learning_curve,\n",
    "    RepeatedStratifiedKFold,\n",
    "    GridSearchCV\n",
    ")\n",
    "from collections import Counter\n",
    "from sklearn.metrics import classification_report, confusion_matrix\n",
    "from sklearn import tree\n",
    "from sklearn.tree import plot_tree\n",
    "from sklearn.preprocessing import LabelEncoder\n",
    "\n",
    "# modele + Smote\n",
    "from xgboost import XGBClassifier, XGBRFClassifier\n",
    "from sklearn.linear_model import LogisticRegression\n",
    "from sklearn.tree import DecisionTreeClassifier\n",
    "from sklearn.ensemble import RandomForestClassifier\n",
    "\n",
    "from imblearn.over_sampling import SMOTE, BorderlineSMOTE\n",
    "from imblearn.under_sampling import NearMiss, RandomUnderSampler, EditedNearestNeighbours, TomekLinks, NeighbourhoodCleaningRule, InstanceHardnessThreshold, OneSidedSelection, CondensedNearestNeighbour\n",
    "from ctgan import CTGAN"
   ]
  },
  {
   "cell_type": "markdown",
   "metadata": {},
   "source": [
    "### Data Preprocessing"
   ]
  },
  {
   "cell_type": "code",
   "execution_count": null,
   "metadata": {},
   "outputs": [],
   "source": [
    "df = pd.read_csv(\"D:/ml/xgboost-main/data/android_malware/TUANDROMD.csv\")\n",
    "df.head()\n",
    "#import dataset\n",
    "df = pd.read_csv(\"D:/ml/xgboost-main/data/android_malware/TUANDROMD.csv\")\n",
    "print(df.head())\n",
    "\n",
    "df = df.drop_duplicates()\n",
    "\n",
    "df = df.fillna(0) \n",
    "label = {'malware':1,'goodware':0}      #zamina tekstu w excel na wartosci 0 i 1\n",
    "df = df.replace(label)\n",
    "df[df.select_dtypes(include=['float64']).columns] = df.select_dtypes(include=['float64']).astype('int64')\n",
    "\n",
    "#add new column = \"source\" with value = \"oryginal\" and save\n",
    "path = \"D:\\\\ml\\\\xgboost-main\\\\data\\\\android_malware\\\\original_dataset.csv\"\n",
    "df['source'] = 'original'\n",
    "df.to_csv(path)"
   ]
  },
  {
   "cell_type": "markdown",
   "metadata": {},
   "source": [
    "### Split Data"
   ]
  },
  {
   "cell_type": "code",
   "execution_count": null,
   "metadata": {},
   "outputs": [],
   "source": [
    "df2 = df.drop(columns=\"source\")\n",
    "y = df2[\"Label\"]\n",
    "X = df2.drop(columns=[\"Label\"])\n",
    "X_train, X_test, y_train, y_test = train_test_split(X, y, test_size=0.2)"
   ]
  }
 ],
 "metadata": {
  "kernelspec": {
   "display_name": "python8",
   "language": "python",
   "name": "python3"
  },
  "language_info": {
   "name": "python",
   "version": "3.8.20"
  }
 },
 "nbformat": 4,
 "nbformat_minor": 2
}
