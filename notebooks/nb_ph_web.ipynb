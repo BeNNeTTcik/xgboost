{
 "cells": [
  {
   "cell_type": "code",
   "execution_count": 1,
   "metadata": {},
   "outputs": [],
   "source": [
    "import pandas as pd\n",
    "import matplotlib.pyplot as plt\n",
    "import seaborn as sns\n",
    "import datacompy\n",
    "import os\n",
    "import numpy as np\n",
    "from joblib import dump, load\n",
    "import pickle\n",
    "from scipy.io import arff\n",
    "\n",
    "# narzedzia\n",
    "from sklearn.model_selection import (\n",
    "    train_test_split,\n",
    "    cross_val_score,\n",
    "    cross_val_predict,\n",
    "    learning_curve,\n",
    "    RepeatedStratifiedKFold,\n",
    "    GridSearchCV\n",
    ")\n",
    "from collections import Counter\n",
    "from sklearn.metrics import classification_report, confusion_matrix\n",
    "from sklearn import tree\n",
    "from sklearn.tree import plot_tree\n",
    "from sklearn.preprocessing import LabelEncoder\n",
    "\n",
    "# modele + Smote\n",
    "from xgboost import XGBClassifier, XGBRFClassifier\n",
    "from sklearn.linear_model import LogisticRegression\n",
    "from sklearn.tree import DecisionTreeClassifier\n",
    "from sklearn.ensemble import RandomForestClassifier\n",
    "\n",
    "from imblearn.over_sampling import SMOTE, BorderlineSMOTE\n",
    "from imblearn.under_sampling import NearMiss, RandomUnderSampler, EditedNearestNeighbours, TomekLinks, NeighbourhoodCleaningRule, InstanceHardnessThreshold, OneSidedSelection, CondensedNearestNeighbour\n",
    "from ctgan import CTGAN"
   ]
  },
  {
   "cell_type": "code",
   "execution_count": 2,
   "metadata": {},
   "outputs": [
    {
     "name": "stdout",
     "output_type": "stream",
     "text": [
      "  having_IP_Address URL_Length Shortining_Service having_At_Symbol  \\\n",
      "0             b'-1'       b'1'               b'1'             b'1'   \n",
      "1              b'1'       b'1'               b'1'             b'1'   \n",
      "2              b'1'       b'0'               b'1'             b'1'   \n",
      "3              b'1'       b'0'               b'1'             b'1'   \n",
      "4              b'1'       b'0'              b'-1'             b'1'   \n",
      "\n",
      "  double_slash_redirecting Prefix_Suffix having_Sub_Domain SSLfinal_State  \\\n",
      "0                    b'-1'         b'-1'             b'-1'          b'-1'   \n",
      "1                     b'1'         b'-1'              b'0'           b'1'   \n",
      "2                     b'1'         b'-1'             b'-1'          b'-1'   \n",
      "3                     b'1'         b'-1'             b'-1'          b'-1'   \n",
      "4                     b'1'         b'-1'              b'1'           b'1'   \n",
      "\n",
      "  Domain_registeration_length Favicon  ... popUpWidnow Iframe age_of_domain  \\\n",
      "0                       b'-1'    b'1'  ...        b'1'   b'1'         b'-1'   \n",
      "1                       b'-1'    b'1'  ...        b'1'   b'1'         b'-1'   \n",
      "2                       b'-1'    b'1'  ...        b'1'   b'1'          b'1'   \n",
      "3                        b'1'    b'1'  ...        b'1'   b'1'         b'-1'   \n",
      "4                       b'-1'    b'1'  ...       b'-1'   b'1'         b'-1'   \n",
      "\n",
      "  DNSRecord web_traffic Page_Rank Google_Index Links_pointing_to_page  \\\n",
      "0     b'-1'       b'-1'     b'-1'         b'1'                   b'1'   \n",
      "1     b'-1'        b'0'     b'-1'         b'1'                   b'1'   \n",
      "2     b'-1'        b'1'     b'-1'         b'1'                   b'0'   \n",
      "3     b'-1'        b'1'     b'-1'         b'1'                  b'-1'   \n",
      "4     b'-1'        b'0'     b'-1'         b'1'                   b'1'   \n",
      "\n",
      "  Statistical_report Result  \n",
      "0              b'-1'  b'-1'  \n",
      "1               b'1'  b'-1'  \n",
      "2              b'-1'  b'-1'  \n",
      "3               b'1'  b'-1'  \n",
      "4               b'1'   b'1'  \n",
      "\n",
      "[5 rows x 31 columns]\n"
     ]
    }
   ],
   "source": [
    "# Load the ARFF file\n",
    "data, meta = arff.loadarff('C:\\\\Users\\\\mateu\\\\Downloads\\\\phishing+websites\\\\Training Dataset.arff')\n",
    "\n",
    "# Convert to a pandas DataFrame\n",
    "df = pd.DataFrame(data)\n",
    "\n",
    "# Display the first few rows of the dataframe\n",
    "print(df.head())"
   ]
  },
  {
   "cell_type": "code",
   "execution_count": 10,
   "metadata": {},
   "outputs": [
    {
     "name": "stdout",
     "output_type": "stream",
     "text": [
      "Result\n",
      "1    14700\n",
      "0    14632\n",
      "Name: count, dtype: int64\n"
     ]
    }
   ],
   "source": [
    "df = pd.read_csv(\"C:\\\\Users\\\\mateu\\\\Downloads\\\\naticusdroid+android+permissions+dataset\\\\data.csv\")\n",
    "colum = df['Result'].value_counts()\n",
    "print(colum)"
   ]
  }
 ],
 "metadata": {
  "kernelspec": {
   "display_name": "python8",
   "language": "python",
   "name": "python3"
  },
  "language_info": {
   "codemirror_mode": {
    "name": "ipython",
    "version": 3
   },
   "file_extension": ".py",
   "mimetype": "text/x-python",
   "name": "python",
   "nbconvert_exporter": "python",
   "pygments_lexer": "ipython3",
   "version": "3.8.20"
  }
 },
 "nbformat": 4,
 "nbformat_minor": 2
}
