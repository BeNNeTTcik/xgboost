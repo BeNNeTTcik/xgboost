{
 "cells": [
  {
   "cell_type": "code",
   "execution_count": 9,
   "metadata": {},
   "outputs": [],
   "source": [
    "import pandas as pd\n",
    "import matplotlib.pyplot as plt\n",
    "import seaborn as sns\n",
    "import datacompy\n",
    "import os\n",
    "import numpy as np\n",
    "\n",
    "# narzedzia\n",
    "from sklearn.model_selection import (\n",
    "    train_test_split,\n",
    "    cross_val_score,\n",
    "    cross_val_predict,\n",
    "    learning_curve,\n",
    "    RepeatedStratifiedKFold,\n",
    "    GridSearchCV\n",
    ")\n",
    "from collections import Counter\n",
    "from sklearn.metrics import classification_report, confusion_matrix\n",
    "from sklearn import tree\n",
    "from sklearn.tree import plot_tree\n",
    "\n",
    "# modele + Smote\n",
    "from xgboost import XGBClassifier, XGBRFClassifier\n",
    "from sklearn.linear_model import LogisticRegression\n",
    "from sklearn.tree import DecisionTreeClassifier\n",
    "from sklearn.ensemble import RandomForestClassifier\n",
    "\n",
    "from imblearn.over_sampling import SMOTE, BorderlineSMOTE\n",
    "from imblearn.under_sampling import NearMiss\n",
    "from ctgan import CTGAN"
   ]
  },
  {
   "cell_type": "code",
   "execution_count": 2,
   "metadata": {},
   "outputs": [
    {
     "name": "stdout",
     "output_type": "stream",
     "text": [
      "Index(['is_private', 'is_failure', 'is_root', 'is_valid', 'not_valid_count',\n",
      "       'ip_failure', 'ip_success', 'no_failure', 'first', 'td', 'target'],\n",
      "      dtype='object')\n",
      "Klasyfikator: target\n",
      "0    43\n",
      "1    12\n",
      "Name: count, dtype: int64\n"
     ]
    }
   ],
   "source": [
    "df = pd.read_csv(\"D:/ml/xgboost-main/data/ssh_logs/SSH.csv\")\n",
    "df = df.drop(columns=[\"user\", \"ts\"])\n",
    "print(df.columns)\n",
    "df.head()\n",
    "df = df.drop_duplicates()\n",
    "df.shape\n",
    "y = df[\"target\"]\n",
    "X = df.drop(columns=[\"target\"])\n",
    "X_train, X_test, y_train, y_test = train_test_split(X, y, test_size=0.2)\n",
    "df_data = df.copy()\n",
    "dell = pd.concat([X_test, y_test], axis=1)      #polaczenie macierzy X_test oraz y_test\n",
    "#print(dell.shape)           #271-55=216\n",
    "target_num = dell['target'].value_counts()\n",
    "print(f'Klasyfikator: {target_num}')\n",
    "df_cleaned = df_data.merge(dell, how='left', indicator=True)  # Dodaje kolumnę '_merge' dla identyfikacji\n",
    "df_cleaned = df_cleaned[df_cleaned['_merge'] == 'left_only'].drop('_merge', axis=1)"
   ]
  },
  {
   "cell_type": "code",
   "execution_count": null,
   "metadata": {},
   "outputs": [
    {
     "name": "stdout",
     "output_type": "stream",
     "text": [
      "     is_private  is_failure  is_root  is_valid  not_valid_count  ip_failure  \\\n",
      "0             1           1        0         1                0           1   \n",
      "1             1           1        0         1                0           2   \n",
      "2             1           0        0         1                0           0   \n",
      "3             1           1        0         1                0           1   \n",
      "5             1           1        1         1                0           3   \n",
      "..          ...         ...      ...       ...              ...         ...   \n",
      "105           1           1        0         1               20          14   \n",
      "106           1           1        0         1                5          26   \n",
      "107           0           1        1         0                8          30   \n",
      "108           1           1        1         0               28           8   \n",
      "109           1           1        0         0               29          38   \n",
      "\n",
      "     ip_success  no_failure  first   td  target    source  \n",
      "0             0           2      1    0       0  original  \n",
      "1             0           3      0   18       0  original  \n",
      "2             1           0      0  133       0  original  \n",
      "3             1           2      0   58       0  original  \n",
      "5             1           5      0  146       0  original  \n",
      "..          ...         ...    ...  ...     ...       ...  \n",
      "105           2          25      0   21       1       gan  \n",
      "106           2          12      0    0       1       gan  \n",
      "107           2          39      0    6       1       gan  \n",
      "108           2           8      0   42       1       gan  \n",
      "109           1           9      0   30       1       gan  \n",
      "\n",
      "[546 rows x 12 columns]\n",
      "Klasyfikatory: target\n",
      "1    384\n",
      "0    162\n",
      "Name: count, dtype: int64\n"
     ]
    }
   ],
   "source": [
    "# concat all datasets\n",
    "file_path4 = \"D:\\\\ml\\\\xgboost-main\\\\data\\\\processed\\\\generated_data_test.csv\"        #sciezka wraz z nazwa pod jaka wygenerowac plik\n",
    "#df_cleaned = pd.read_csv()\n",
    "smote_data = pd.read_csv(\"D:\\\\ml\\\\xgboost-main\\\\data\\\\generated\\\\smote_data.csv\")\n",
    "boarderline_smote_data = pd.read_csv(\"D:\\\\ml\\\\xgboost-main\\\\data\\\\generated\\\\boarderlinesmote_data.csv\")\n",
    "gan_data = pd.read_csv(\"D:\\\\ml\\\\xgboost-main\\\\data\\\\generated\\\\GAN_data.csv\")\n",
    "\n",
    "data1 = pd.concat([df_cleaned, smote_data])\n",
    "data1['source'] = ['original' if i < len(df_cleaned) else 'smote' for i in range(len(data1))]\n",
    "data2 = pd.concat([boarderline_smote_data, gan_data])\n",
    "data2['source'] = ['boarderline' if i < len(boarderline_smote_data) else 'gan' for i in range(len(data2))]\n",
    "data = pd.concat([data1, data2])\n",
    "print(data)\n",
    "#data.to_csv(file_path4,index=False)\n",
    "target_num = data['target'].value_counts()\n",
    "print(f'Klasyfikatory: {target_num}')\n",
    "\n",
    "\n",
    "\n",
    "\n",
    "\n",
    "#dodanie danych tak zeby bylo wiadomo skad pochodza, potem wylaczenie ostatniej kokumny przed undersamplingiem \n",
    "#i sprawdzenie % jaki wychodzi wspolczynnik wykorzystanych danych do najoptymalniejszej nauki"
   ]
  }
 ],
 "metadata": {
  "kernelspec": {
   "display_name": "python8",
   "language": "python",
   "name": "python3"
  },
  "language_info": {
   "codemirror_mode": {
    "name": "ipython",
    "version": 3
   },
   "file_extension": ".py",
   "mimetype": "text/x-python",
   "name": "python",
   "nbconvert_exporter": "python",
   "pygments_lexer": "ipython3",
   "version": "3.8.20"
  }
 },
 "nbformat": 4,
 "nbformat_minor": 2
}
