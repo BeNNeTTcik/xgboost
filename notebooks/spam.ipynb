{
 "cells": [
  {
   "cell_type": "code",
   "execution_count": 1,
   "metadata": {},
   "outputs": [],
   "source": [
    "import pandas as pd\n",
    "import matplotlib.pyplot as plt\n",
    "import seaborn as sns\n",
    "import datacompy\n",
    "import os\n",
    "import numpy as np\n",
    "from scipy.io import arff\n",
    "\n",
    "# narzedzia\n",
    "from sklearn.model_selection import (\n",
    "    train_test_split,\n",
    "    cross_val_score,\n",
    "    cross_val_predict,\n",
    "    learning_curve,\n",
    "    RepeatedStratifiedKFold,\n",
    "    GridSearchCV\n",
    ")\n",
    "from collections import Counter\n",
    "from sklearn.metrics import classification_report, confusion_matrix\n",
    "from sklearn import tree\n",
    "from sklearn.tree import plot_tree\n",
    "from sklearn.preprocessing import LabelEncoder\n",
    "\n",
    "# modele + Smote\n",
    "from xgboost import XGBClassifier, XGBRFClassifier\n",
    "from sklearn.linear_model import LogisticRegression\n",
    "from sklearn.tree import DecisionTreeClassifier\n",
    "from sklearn.ensemble import RandomForestClassifier\n",
    "\n",
    "from imblearn.over_sampling import SMOTE, BorderlineSMOTE\n",
    "from ctgan import CTGAN"
   ]
  },
  {
   "cell_type": "code",
   "execution_count": 23,
   "metadata": {},
   "outputs": [
    {
     "name": "stdout",
     "output_type": "stream",
     "text": [
      "   word_freq_make  word_freq_address  word_freq_all  word_freq_3d  \\\n",
      "0            0.00               0.64           0.64           0.0   \n",
      "1            0.21               0.28           0.50           0.0   \n",
      "2            0.06               0.00           0.71           0.0   \n",
      "3            0.00               0.00           0.00           0.0   \n",
      "4            0.00               0.00           0.00           0.0   \n",
      "\n",
      "   word_freq_our  word_freq_over  word_freq_remove  word_freq_internet  \\\n",
      "0           0.32            0.00              0.00                0.00   \n",
      "1           0.14            0.28              0.21                0.07   \n",
      "2           1.23            0.19              0.19                0.12   \n",
      "3           0.63            0.00              0.31                0.63   \n",
      "4           0.63            0.00              0.31                0.63   \n",
      "\n",
      "   word_freq_order  word_freq_mail  ...  char_freq_;  char_freq_(  \\\n",
      "0             0.00            0.00  ...         0.00        0.000   \n",
      "1             0.00            0.94  ...         0.00        0.132   \n",
      "2             0.64            0.25  ...         0.01        0.143   \n",
      "3             0.31            0.63  ...         0.00        0.137   \n",
      "4             0.31            0.63  ...         0.00        0.135   \n",
      "\n",
      "   char_freq_[  char_freq_!  char_freq_$  char_freq_#  \\\n",
      "0          0.0        0.778        0.000        0.000   \n",
      "1          0.0        0.372        0.180        0.048   \n",
      "2          0.0        0.276        0.184        0.010   \n",
      "3          0.0        0.137        0.000        0.000   \n",
      "4          0.0        0.135        0.000        0.000   \n",
      "\n",
      "   capital_run_length_average  capital_run_length_longest  \\\n",
      "0                       3.756                          61   \n",
      "1                       5.114                         101   \n",
      "2                       9.821                         485   \n",
      "3                       3.537                          40   \n",
      "4                       3.537                          40   \n",
      "\n",
      "   capital_run_length_total  spam  \n",
      "0                       278     1  \n",
      "1                      1028     1  \n",
      "2                      2259     1  \n",
      "3                       191     1  \n",
      "4                       191     1  \n",
      "\n",
      "[5 rows x 58 columns]\n",
      "word_freq_make                float64\n",
      "word_freq_address             float64\n",
      "word_freq_all                 float64\n",
      "word_freq_3d                  float64\n",
      "word_freq_our                 float64\n",
      "word_freq_over                float64\n",
      "word_freq_remove              float64\n",
      "word_freq_internet            float64\n",
      "word_freq_order               float64\n",
      "word_freq_mail                float64\n",
      "word_freq_receive             float64\n",
      "word_freq_will                float64\n",
      "word_freq_people              float64\n",
      "word_freq_report              float64\n",
      "word_freq_addresses           float64\n",
      "word_freq_free                float64\n",
      "word_freq_business            float64\n",
      "word_freq_email               float64\n",
      "word_freq_you                 float64\n",
      "word_freq_credit              float64\n",
      "word_freq_your                float64\n",
      "word_freq_font                float64\n",
      "word_freq_000                 float64\n",
      "word_freq_money               float64\n",
      "word_freq_hp                  float64\n",
      "word_freq_hpl                 float64\n",
      "word_freq_george              float64\n",
      "word_freq_650                 float64\n",
      "word_freq_lab                 float64\n",
      "word_freq_labs                float64\n",
      "word_freq_telnet              float64\n",
      "word_freq_857                 float64\n",
      "word_freq_data                float64\n",
      "word_freq_415                 float64\n",
      "word_freq_85                  float64\n",
      "word_freq_technology          float64\n",
      "word_freq_1999                float64\n",
      "word_freq_parts               float64\n",
      "word_freq_pm                  float64\n",
      "word_freq_direct              float64\n",
      "word_freq_cs                  float64\n",
      "word_freq_meeting             float64\n",
      "word_freq_original            float64\n",
      "word_freq_project             float64\n",
      "word_freq_re                  float64\n",
      "word_freq_edu                 float64\n",
      "word_freq_table               float64\n",
      "word_freq_conference          float64\n",
      "char_freq_;                   float64\n",
      "char_freq_(                   float64\n",
      "char_freq_[                   float64\n",
      "char_freq_!                   float64\n",
      "char_freq_$                   float64\n",
      "char_freq_#                   float64\n",
      "capital_run_length_average    float64\n",
      "capital_run_length_longest      int64\n",
      "capital_run_length_total        int64\n",
      "spam                            int64\n",
      "dtype: object\n"
     ]
    }
   ],
   "source": [
    "# code\n",
    "df = pd.read_csv(\"D:/ml/xgboost-main/data/spambase/spambase.csv\")\n",
    "df = df.drop_duplicates()\n",
    "print(df.head())\n",
    "print(df.dtypes)\n",
    "\n",
    "#add new column = \"source\" with value = \"oryginal\" and save\n",
    "path = \"D:\\\\ml\\\\xgboost-main\\\\data\\\\spambase\\\\oryginal_dataset.csv\"\n",
    "df = df.copy()\n",
    "df['source'] = 'original'\n",
    "df.to_csv(path)"
   ]
  },
  {
   "cell_type": "markdown",
   "metadata": {},
   "source": [
    "### Training & Test Data"
   ]
  },
  {
   "cell_type": "code",
   "execution_count": 24,
   "metadata": {},
   "outputs": [
    {
     "name": "stdout",
     "output_type": "stream",
     "text": [
      "(3368, 57)\n",
      "(842, 57)\n"
     ]
    }
   ],
   "source": [
    "df2 = df.drop(columns=\"source\")\n",
    "y = df2[\"spam\"]\n",
    "X = df2.drop(columns=[\"spam\"])\n",
    "X_train, X_test, y_train, y_test = train_test_split(X, y, test_size=0.2)\n",
    "print(X_train.shape)\n",
    "print(X_test.shape)\n",
    "\n",
    "#concat X_train & y_train -> used to save files\n",
    "df_original = pd.concat([X_train, y_train], axis=1)          \n",
    "df_original['source'] = 'original'  \n",
    "\n",
    "#save test samples\n",
    "y_test.to_csv(\"D:\\\\ml\\\\xgboost-main\\\\data\\\\spambase\\\\test_data\\\\y_test.csv\")\n",
    "X_test.to_csv(\"D:\\\\ml\\\\xgboost-main\\\\data\\\\spambase\\\\test_data\\\\X_test.csv\")"
   ]
  },
  {
   "cell_type": "markdown",
   "metadata": {},
   "source": [
    "### Oversampling - SMOTE"
   ]
  },
  {
   "cell_type": "code",
   "execution_count": 39,
   "metadata": {},
   "outputs": [
    {
     "name": "stdout",
     "output_type": "stream",
     "text": [
      "Przed Counter({0: 2010, 1: 1358})\n",
      "Po Counter({0: 2010, 1: 2010})\n",
      "Plik istnieje pod ścieżką: D:\\ml\\xgboost-main\\data\\spambase\\smote_data.csv\n"
     ]
    },
    {
     "data": {
      "text/plain": [
       "<Axes: xlabel='spam'>"
      ]
     },
     "execution_count": 39,
     "metadata": {},
     "output_type": "execute_result"
    },
    {
     "data": {
      "image/png": "[encoded data removed]",
      "text/plain": [
       "<Figure size 640x480 with 1 Axes>"
      ]
     },
     "metadata": {},
     "output_type": "display_data"
    }
   ],
   "source": [
    "file_path1 = \"D:\\\\ml\\\\xgboost-main\\\\data\\\\spambase\\\\smote_data.csv\"\n",
    "#generate new data by SMOTE\n",
    "con = Counter(y_train)\n",
    "print(\"Przed\", con)\n",
    "smote = SMOTE(random_state=42)\n",
    "X_train_sm, y_train_sm = smote.fit_resample(X_train, y_train)\n",
    "con1 = Counter(y_train_sm)\n",
    "print(\"Po\", con1)\n",
    "\n",
    "#concat smote train X & y && save data\n",
    "train_data_smote = pd.concat([X_train_sm, y_train_sm], axis=1)          #polaczenie danych wygenerowanych X_train oraz y_train\n",
    "train_data_smote['generated_by_smote'] = ['original' if i < len(df_original) else 'smote' for i in range(len(train_data_smote))]\n",
    "smote_data = train_data_smote[train_data_smote['generated_by_smote'] == 'smote'].drop('generated_by_smote', axis=1)\n",
    "smote_data[\"source\"]=\"smote\"\n",
    "\n",
    "if not os.path.exists(file_path1):\n",
    "    smote_data.to_csv(file_path1, index=False)\n",
    "else:\n",
    "    print(f'Plik istnieje pod ścieżką: {file_path1}')\n",
    "\n",
    "pd.Series(y_train_sm).value_counts().plot.bar()"
   ]
  },
  {
   "cell_type": "markdown",
   "metadata": {},
   "source": [
    "### Oversampling - BorderLine SMOTE"
   ]
  },
  {
   "cell_type": "code",
   "execution_count": 42,
   "metadata": {},
   "outputs": [
    {
     "name": "stdout",
     "output_type": "stream",
     "text": [
      "Przed Counter({0: 2010, 1: 1358})\n",
      "Po Counter({0: 2010, 1: 2010})\n"
     ]
    },
    {
     "data": {
      "text/plain": [
       "<Axes: xlabel='spam'>"
      ]
     },
     "execution_count": 42,
     "metadata": {},
     "output_type": "execute_result"
    },
    {
     "data": {
      "image/png": "[encoded data removed]",
      "text/plain": [
       "<Figure size 640x480 with 1 Axes>"
      ]
     },
     "metadata": {},
     "output_type": "display_data"
    }
   ],
   "source": [
    "file_path2 = \"D:\\\\ml\\\\xgboost-main\\\\data\\\\spambase\\\\boarderlinesmote_data.csv\"\n",
    "#generate new data by borderLineSMOTE\n",
    "con3 = Counter(y_train)\n",
    "print(\"Przed\", con3)\n",
    "brdsmote = BorderlineSMOTE(random_state=42)\n",
    "X_train_bsm, y_train_bsm = brdsmote.fit_resample(X_train, y_train)\n",
    "con4 = Counter(y_train_bsm)\n",
    "print(\"Po\", con4)\n",
    "\n",
    "train_data_borderline_smote = pd.concat([X_train_bsm, y_train_bsm], axis=1)          #polaczenie danych wygenerowanych X_train oraz y_train\n",
    "train_data_borderline_smote['generated_by_boarderline_smote'] = ['original' if i < len(df_original) else 'brd smote' for i in range(len(train_data_borderline_smote))]\n",
    "boarderline_smote_data = train_data_borderline_smote[train_data_borderline_smote['generated_by_boarderline_smote'] == 'brd smote'].drop('generated_by_boarderline_smote', axis=1)\n",
    "boarderline_smote_data[\"source\"]=\"borderline smote\"\n",
    "if not os.path.exists(file_path2):\n",
    "    boarderline_smote_data.to_csv(file_path2, index=False)\n",
    "else:\n",
    "    print(f'Plik istnieje pod ścieżką: {file_path2}')\n",
    "\n",
    "pd.Series(y_train_bsm).value_counts().plot.bar()"
   ]
  },
  {
   "cell_type": "markdown",
   "metadata": {},
   "source": [
    "### Oversampling - GAN"
   ]
  },
  {
   "cell_type": "code",
   "execution_count": 49,
   "metadata": {},
   "outputs": [
    {
     "name": "stdout",
     "output_type": "stream",
     "text": [
      "Dane wygenerowane:  spam\n",
      "1    652\n",
      "Name: count, dtype: int64\n",
      "Before Counter({0: 2010, 1: 1358})\n",
      "After Counter({0: 2010, 1: 2010})\n"
     ]
    },
    {
     "data": {
      "text/plain": [
       "<Axes: xlabel='spam'>"
      ]
     },
     "execution_count": 49,
     "metadata": {},
     "output_type": "execute_result"
    },
    {
     "data": {
      "image/png": "[encoded data removed]",
      "text/plain": [
       "<Figure size 640x480 with 1 Axes>"
      ]
     },
     "metadata": {},
     "output_type": "display_data"
    }
   ],
   "source": [
    "file_path3 = \"D:\\\\ml\\\\xgboost-main\\\\data\\\\spambase\\\\GAN_data.csv\"        #sciezka wraz z nazwa pod jaka wygenerowac plik\n",
    "#generate new data by GAN\n",
    "columns_list = df_original.columns\n",
    "target_num = df_original['spam'].value_counts()\n",
    "ctgan = CTGAN(epochs=10)        #model\n",
    "\n",
    "if target_num[0] > target_num[1]:\n",
    "    data_y1 = df_original[df_original['spam']==1]\n",
    "    ctgan.fit(data_y1, columns_list)\n",
    "    sample = abs(target_num[0]-target_num[1])\n",
    "    df_GAN = ctgan.sample(sample)\n",
    "    print('Dane wygenerowane: ', df_GAN['spam'].value_counts())\n",
    "    balanced_data = pd.concat([df_original, df_GAN], ignore_index=False)\n",
    "else:\n",
    "    data_y0 = df_original[df_original['spam']==0]\n",
    "    ctgan.fit(data_y0, columns_list)\n",
    "    sample = abs(target_num[0]-target_num[1])\n",
    "    df_GAN = ctgan.sample(sample)\n",
    "    print('Dane wygenerowane: ', df_GAN['spam'].value_counts())\n",
    "    balanced_data = pd.concat([df_original, df_GAN], ignore_index=False)\n",
    "  \n",
    "y_train_gan = balanced_data[\"spam\"]\n",
    "X_train_gan = df.drop(columns=[\"spam\"])\n",
    "con5 = Counter(y_train)\n",
    "print(\"Before\", con5)\n",
    "con6 = Counter(y_train_gan)\n",
    "print(\"After\", con6)\n",
    "\n",
    "df_GAN[\"source\"]=\"gan\"\n",
    "if not os.path.exists(file_path3):\n",
    "    df_GAN.to_csv(file_path3, index=False)\n",
    "else:\n",
    "    print(f'Plik istnieje pod ścieżką: {file_path3}')\n",
    "\n",
    "pd.Series(y_train_gan).value_counts().plot.bar()"
   ]
  },
  {
   "cell_type": "markdown",
   "metadata": {},
   "source": [
    "### Models + fit_data"
   ]
  },
  {
   "cell_type": "code",
   "execution_count": 50,
   "metadata": {},
   "outputs": [],
   "source": [
    "models = {\n",
    "    \n",
    "    \"LR\": LogisticRegression(),             # logistic regression dla niezbalansowanych \n",
    "    \"LR_SMOTE\": LogisticRegression(),       # logistic regression dla zbalansowanych SMOTE\n",
    "    \"LR_BrdSMOTE\": LogisticRegression(),    # logistic regression dla zbalansowanych BoarderrLineSMOTE\n",
    "    \"LR_GAN\": LogisticRegression(),         # logistic regression dla zbalansowanych GAN\n",
    "    \n",
    "    \"DT\": DecisionTreeClassifier(),             # decision tree dla niezbalansowanych\n",
    "    \"DT_SMOTE\": DecisionTreeClassifier(),       # decision tree dla zbalansowanych SMOTE\n",
    "    \"DT_BrdSMOTE\": DecisionTreeClassifier(),     # decision tree dla zbalansowanych BoarderrLineSMOTE\n",
    "    \"DT_GAN\": DecisionTreeClassifier(),          # decision tree dla zbalansowanych GAN\n",
    "    \n",
    "    \"RF\": RandomForestClassifier(),             # random forest dla niezbalansowanych\n",
    "    \"RF_SMOTE\": RandomForestClassifier(),       # random forest dla zbalansowanych SMOTE\n",
    "    \"RF_BrdSMOTE\": RandomForestClassifier(),    # random forest dla zbalansowanych BoarderrLineSMOTE\n",
    "    \"RF_GAN\": RandomForestClassifier(),        # random forest dla zbalansowanych GAN\n",
    "    \n",
    "    \"XGB\": XGBClassifier(),           # xgboost dla niezbalansowanych\n",
    "    \"XGB_SMOTE\": XGBClassifier(),     # xgboost dla zbalansowanych SMOTE\n",
    "    \"XGB_BrdSMOTE\": XGBClassifier(),    # xgboost dla zbalansowanych BoarderrLineSMOTE\n",
    "    \"XGB_GAN\": XGBClassifier(),       # xgboost dla zbalansowanych GAN\n",
    "    \n",
    "    \"XGB_RF\": XGBRFClassifier(),            # xgboost rf dla niezbalansowanych\n",
    "    \"XGB_RF_SMOTE\": XGBRFClassifier(),         # xgboost rf dla zbalansowanych SMOTE\n",
    "    \"XGB_RF_BrdSMOTE\": XGBRFClassifier(),   # xgboost rf dla zbalansowanych BoarderrLineSMOTE\n",
    "    \"XGB_RF_GAN\": XGBRFClassifier()          # xgboost rf dla zbalansowanych GAN\n",
    "}\n",
    "\n",
    "\n",
    "fit_data = {\n",
    "    \n",
    "    \"LR\": (X_train, y_train),\n",
    "    \"LR_SMOTE\": (X_train_sm, y_train_sm),\n",
    "    \"LR_BrdSMOTE\": (X_train_bsm, y_train_bsm),\n",
    "    \"LR_GAN\": (X_train_gan, y_train_gan),\n",
    "    \n",
    "    \"DT\": (X_train, y_train),\n",
    "    \"DT_SMOTE\": (X_train_sm, y_train_sm),\n",
    "    \"DT_BrdSMOTE\": (X_train_bsm, y_train_bsm),\n",
    "    \"DT_GAN\": (X_train_gan, y_train_gan),\n",
    "    \n",
    "    \"RF\": (X_train, y_train),\n",
    "    \"RF_SMOTE\": (X_train_sm, y_train_sm),\n",
    "    \"RF_BrdSMOTE\": (X_train_bsm, y_train_bsm),\n",
    "    \"RF_GAN\": (X_train_gan, y_train_gan),\n",
    "    \n",
    "    \"XGB\": (X_train, y_train),\n",
    "    \"XGB_SMOTE\": (X_train_sm, y_train_sm),\n",
    "    \"XGB_BrdSMOTE\": (X_train_bsm, y_train_bsm),\n",
    "    \"XGB_GAN\": (X_train_gan, y_train_gan),\n",
    "\n",
    "    \"XGB_RF\": (X_train, y_train),\n",
    "    \"XGB_RF_SMOTE\": (X_train_sm, y_train_sm),\n",
    "    \"XGB_RF_BrdSMOTE\": (X_train_bsm, y_train_bsm),\n",
    "    \"XGB_RF_GAN\": (X_train_gan, y_train_gan)\n",
    "}"
   ]
  },
  {
   "cell_type": "markdown",
   "metadata": {},
   "source": [
    "### GridSearch"
   ]
  },
  {
   "cell_type": "code",
   "execution_count": null,
   "metadata": {},
   "outputs": [],
   "source": [
    "# PARAMS to Search\n",
    "params_LR = {                               # dla LR\n",
    "    #'class_weight':['balanced', 'none'],   # wagi dla poszczegolnych klas\n",
    "    'max_iter':[100,500,1000]  ,\n",
    "    'random_state':[0,10,20,30,40]        # ustalona losowość dla powtarzalności\n",
    "                # ilosc iteracji\n",
    "}\n",
    "\n",
    "params_DT = {                               # dla DT\n",
    "    'max_depth':[4,8,12,16],                # maksymalna głębokość drzewa\n",
    "    'random_state':[0,10,20,30,40],         # ustalona losowość dla powtarzalności\n",
    "    'min_samples_leaf':[1,2]                # minimalna ilosc probek lisci\n",
    "}\n",
    "\n",
    "params_RF = {\n",
    "    'n_estimators':[20,40,60,80,100],       # rozmiar lasu\n",
    "    'max_depth':[4,8,12,16],                # maksymalna głębokość drzewa\n",
    "    'min_samples_leaf':[1,2],               # minimalna ilosc probek lisci\n",
    "    'random_state':[0,10,20,30,40],         # ustalona losowość dla powtarzalności\n",
    "}\n",
    "\n",
    "params_XGB = {                              # dla XGBoost\n",
    "    'max_depth':[4,8,12,16],                # maksymalna głębokość drzewa\n",
    "    'subsample':[0.5,0.6,0.7,0.8,0.9,1]\n",
    "}\n",
    "\n",
    "params_XGB_RF = {                           # dla XGBoost RF\n",
    "    'max_depth':[4,8,12,16],                # maksymalna głębokość drzewa\n",
    "    'n_estimators':[20,40,60,80,100],       # rozmiar lasu\n",
    "    'subsample':[0.5,0.6,0.7,0.8,0.9,1],\n",
    "    'random_state':[0,10,20,30,40]          # ustalona losowość dla powtarzalności\n",
    "}\n",
    "\n",
    "goal = ['precision', 'recall', 'f1', 'accuracy'] \n",
    "call = \"GAN\"\n",
    "file_path = \"D:\\\\ml\\\\xgboost-main\\\\reports\\\\spambase\\\\GAN.txt\"\n",
    "\n",
    "for score_1 in goal:\n",
    "    \n",
    "    model_LR = LogisticRegression()\n",
    "    model_LR_SMOTE = LogisticRegression()\n",
    "    model_LR_BrdSMOTE = LogisticRegression()\n",
    "    model_LR_GAN = LogisticRegression()\n",
    "    model_DT = DecisionTreeClassifier()\n",
    "    model_DT_SMOTE = DecisionTreeClassifier()\n",
    "    model_DT_BrdSMOTE = DecisionTreeClassifier()\n",
    "    model_DT_GAN = DecisionTreeClassifier()\n",
    "    model_RF = RandomForestClassifier()\n",
    "    model_RF_SMOTE = RandomForestClassifier()\n",
    "    model_RF_BrdSMOTE = RandomForestClassifier()\n",
    "    model_RF_GAN = RandomForestClassifier()\n",
    "    model_XGB = XGBClassifier()\n",
    "    model_XGB_SMOTE = XGBClassifier()\n",
    "    model_XGB_BrdSMOTE = XGBClassifier()\n",
    "    model_XGB_GAN = XGBClassifier()\n",
    "    model_XGB_RF = XGBRFClassifier()\n",
    "    model_XGB_RF_SMOTE = XGBRFClassifier()\n",
    "    model_XGB_RF_BrdSMOTE = XGBRFClassifier()\n",
    "    model_XGB_RF_GAN = XGBRFClassifier()\n",
    "    \n",
    "    model_LR_GAN = GridSearchCV(model_LR_GAN,param_grid=params_LR,scoring=score_1).fit(X_train_gan,y_train_gan)\n",
    "    model_DT_GAN = GridSearchCV(model_DT_GAN,param_grid=params_DT,scoring=score_1).fit(X_train_gan,y_train_gan)\n",
    "    model_RF_GAN = GridSearchCV(model_RF_GAN,param_grid=params_RF,scoring=score_1).fit(X_train_gan,y_train_gan)\n",
    "    model_XGB_GAN = GridSearchCV(model_XGB_GAN,param_grid=params_XGB, scoring=score_1).fit(X_train_gan,y_train_gan)\n",
    "    model_XGB_RF_GAN = GridSearchCV(model_XGB_RF_GAN,param_grid=params_XGB_RF,scoring=score_1).fit(X_train_gan,y_train_gan)\n",
    "    \n",
    "    with open(file_path, \"a+\") as f:\n",
    "        print(f'scoring: {score_1}', file=f)\n",
    "        print(f'Best parameters for {score_1} & LR + {call}:', model_LR_GAN.best_params_, file=f)\n",
    "        print(f'Best score for {score_1} & LR + {call}:', model_LR_GAN.best_score_, file=f)\n",
    "        print(f'Best parameters for {score_1} & DT + {call}:', model_DT_GAN.best_params_, file=f)\n",
    "        print(f'Best score for {score_1} & DT + {call}:', model_DT_GAN.best_score_, file=f)\n",
    "        print(f'Best parameters for {score_1} & RF + {call}:', model_RF_GAN.best_params_, file=f)\n",
    "        print(f'Best score for {score_1} & RF + {call}:', model_RF_GAN.best_score_, file=f)\n",
    "        print(f'Best parameters for {score_1} & XGB + {call}:', model_XGB_GAN.best_params_, file=f)\n",
    "        print(f'Best score for {score_1} & XGB + {call}:', model_XGB_GAN.best_score_, file=f)\n",
    "        print(f'Best parameters for {score_1} & XGB RF + {call}:', model_XGB_RF_GAN.best_params_, file=f)\n",
    "        print(f'Best score for {score_1} & XGB RF + {call}:', model_XGB_RF_GAN.best_score_, file=f)"
   ]
  }
 ],
 "metadata": {
  "kernelspec": {
   "display_name": "python8",
   "language": "python",
   "name": "python3"
  },
  "language_info": {
   "codemirror_mode": {
    "name": "ipython",
    "version": 3
   },
   "file_extension": ".py",
   "mimetype": "text/x-python",
   "name": "python",
   "nbconvert_exporter": "python",
   "pygments_lexer": "ipython3",
   "version": "3.8.20"
  }
 },
 "nbformat": 4,
 "nbformat_minor": 2
}
