{
 "cells": [
  {
   "cell_type": "code",
   "execution_count": 40,
   "metadata": {},
   "outputs": [],
   "source": [
    "import pandas as pd\n",
    "import matplotlib.pyplot as plt\n",
    "import seaborn as sns\n",
    "import datacompy\n",
    "import os\n",
    "import numpy as np\n",
    "\n",
    "# narzedzia\n",
    "from sklearn.model_selection import (\n",
    "    train_test_split,\n",
    "    cross_val_score,\n",
    "    cross_val_predict,\n",
    "    learning_curve,\n",
    "    RepeatedStratifiedKFold,\n",
    "    GridSearchCV\n",
    ")\n",
    "from collections import Counter\n",
    "from sklearn.metrics import classification_report, confusion_matrix\n",
    "from sklearn import tree\n",
    "from sklearn.tree import plot_tree\n",
    "from sklearn.preprocessing import LabelEncoder\n",
    "\n",
    "# modele + Smote\n",
    "from xgboost import XGBClassifier, XGBRFClassifier\n",
    "from sklearn.linear_model import LogisticRegression\n",
    "from sklearn.tree import DecisionTreeClassifier\n",
    "from sklearn.ensemble import RandomForestClassifier\n",
    "\n",
    "from imblearn.over_sampling import SMOTE, BorderlineSMOTE\n",
    "from ctgan import CTGAN"
   ]
  },
  {
   "cell_type": "markdown",
   "metadata": {},
   "source": [
    "num_duplicates = df.duplicated().sum()\n",
    "print(f\"Liczba duplikatów: {num_duplicates}\")"
   ]
  },
  {
   "cell_type": "markdown",
   "metadata": {},
   "source": [
    "### Data PreProcessing"
   ]
  },
  {
   "cell_type": "code",
   "execution_count": 93,
   "metadata": {},
   "outputs": [
    {
     "name": "stdout",
     "output_type": "stream",
     "text": [
      "\n",
      "Mapped values for 'service_en':\n",
      "'-' -> 0\n",
      "'dhcp' -> 1\n",
      "'dns' -> 2\n",
      "'http' -> 3\n",
      "'irc' -> 4\n",
      "'mqtt' -> 5\n",
      "'ntp' -> 6\n",
      "'radius' -> 7\n",
      "'ssh' -> 8\n",
      "'ssl' -> 9\n",
      "\n",
      "Mapped values for 'Attack_type_en':\n",
      "'ARP_poisioning' -> 0\n",
      "'DDOS_Slowloris' -> 1\n",
      "'DOS_SYN_Hping' -> 2\n",
      "'MQTT_Publish' -> 3\n",
      "'Metasploit_Brute_Force_SSH' -> 4\n",
      "'NMAP_FIN_SCAN' -> 5\n",
      "'NMAP_OS_DETECTION' -> 6\n",
      "'NMAP_TCP_scan' -> 7\n",
      "'NMAP_UDP_SCAN' -> 8\n",
      "'NMAP_XMAS_TREE_SCAN' -> 9\n",
      "'Thing_Speak' -> 10\n",
      "'Wipro_bulb' -> 11\n"
     ]
    }
   ],
   "source": [
    "#import dataset\n",
    "df = pd.read_csv(\"D:/ml/xgboost-main/data/RT-IoT/RT_IOT2022\")\n",
    "df = df.drop(columns =[\"Unnamed: 0\"])\n",
    "\n",
    "#calassification: if normal communication: 1, attacks: 0\n",
    "df['label'] = df['Attack_type'].isin(['MQTT_Publish', 'Thing_Speak', 'Wipro_bulb']).astype(int)\n",
    "df = df.drop_duplicates()\n",
    "\n",
    "#drop from column=\"proto\" when values=\"icmp\" & tcp=1 udp=0\n",
    "df = df[df['proto'] != 'icmp']\n",
    "label = {'tcp':1,'udp':0}      \n",
    "df = df.replace(label)\n",
    "\n",
    "#change text from column=\"service\" to int values by LabelEncoder()\n",
    "le = LabelEncoder()\n",
    "df['service_en'] = le.fit_transform(df['service'])\n",
    "cols = df.columns.tolist()\n",
    "index = cols.index('service')                                                   #find column='service'\n",
    "cols.insert(index + 1, cols.pop(cols.index('service_en')))                      #paste column='service_encoded' after column='service'\n",
    "df = df[cols]\n",
    "mapping = dict(zip(le.classes_, le.transform(le.classes_)))                     #mapping text = value\n",
    "print(\"\\nMapped values for 'service_en':\")\n",
    "for name, encoded_value in mapping.items():\n",
    "    print(f\"'{name}' -> {encoded_value}\")\n",
    "df = df.drop(columns=[\"service\"])                                               #drop column=\"service\"\n",
    "\n",
    "#change text from column=\"Attack_type\" to int values by LabelEncoder()\n",
    "df['Attack_type_en'] = le.fit_transform(df['Attack_type'])\n",
    "cols = df.columns.tolist()\n",
    "index = cols.index('Attack_type')                                               #find column='Attack_type'\n",
    "cols.insert(index + 1, cols.pop(cols.index('Attack_type_en')))                  #paste column='Attack_type_en' after column='Attack_type'\n",
    "df = df[cols]\n",
    "mapping = dict(zip(le.classes_, le.transform(le.classes_)))                     #mapping text = value\n",
    "print(\"\\nMapped values for 'Attack_type_en':\")\n",
    "for name, encoded_value in mapping.items():\n",
    "    print(f\"'{name}' -> {encoded_value}\")\n",
    "df = df.drop(columns=[\"Attack_type\"])                                           #drop column=\"Attack_tyope\"\n",
    "df.dtypes\n",
    "df.head()\n",
    "\n",
    "#add new column = \"source\" with value = \"oryginal\" and save\n",
    "path = \"D:\\\\ml\\\\xgboost-main\\\\data\\\\RT-IoT\\\\oryginal_dataset.csv\"\n",
    "df['source'] = 'original'\n",
    "df.to_csv(path)"
   ]
  },
  {
   "cell_type": "code",
   "execution_count": null,
   "metadata": {},
   "outputs": [
    {
     "name": "stdout",
     "output_type": "stream",
     "text": [
      "(94310, 84)\n",
      "(23578, 84)\n"
     ]
    },
    {
     "data": {
      "text/plain": [
       "\" \\ndf_data = df.copy()\\ndell = pd.concat([X_test, y_test], axis=1)      #polaczenie macierzy X_test oraz y_test\\n#print(dell.shape)           #271-55=216\\ntarget_num = dell['target'].value_counts()\\nprint(f'Klasyfikator: {target_num}')\\ndf_cleaned = df_data.merge(dell, how='left', indicator=True)        # Dodaje kolumnę '_merge' dla identyfikacji\\ndf_cleaned = df_cleaned[df_cleaned['_merge'] == 'left_only'].drop('_merge', axis=1) \""
      ]
     },
     "execution_count": 94,
     "metadata": {},
     "output_type": "execute_result"
    }
   ],
   "source": [
    "#prepare & generate train & test samples\n",
    "df2 = df.drop(columns=\"source\")\n",
    "y = df2[\"label\"]\n",
    "X = df2.drop(columns=[\"label\"])\n",
    "X_train, X_test, y_train, y_test = train_test_split(X, y, test_size=0.2)\n",
    "print(X_train.shape)\n",
    "print(X_test.shape)\n",
    "\n",
    "#concat X_train & y_train -> used to save files\n",
    "df_original = pd.concat([X_train, y_train], axis=1)          \n",
    "df_original['source'] = 'oryginal'                              #new column = \"source\"\n",
    "\n",
    "#save test samples\n",
    "y_test.to_csv(\"D:\\\\ml\\\\xgboost-main\\\\data\\\\testframe\\\\iot\\\\y_test.csv\")\n",
    "X_test.to_csv(\"D:\\\\ml\\\\xgboost-main\\\\data\\\\testframe\\\\iot\\\\X_test.csv\")\n",
    "\n",
    "\"\"\" \n",
    "df_data = df.copy()\n",
    "dell = pd.concat([X_test, y_test], axis=1)      #polaczenie macierzy X_test oraz y_test\n",
    "#print(dell.shape)           #271-55=216\n",
    "target_num = dell['target'].value_counts()\n",
    "print(f'Klasyfikator: {target_num}')\n",
    "df_cleaned = df_data.merge(dell, how='left', indicator=True)        # Dodaje kolumnę '_merge' dla identyfikacji\n",
    "df_cleaned = df_cleaned[df_cleaned['_merge'] == 'left_only'].drop('_merge', axis=1) \"\"\""
   ]
  },
  {
   "cell_type": "markdown",
   "metadata": {},
   "source": [
    "### OverSampling - SMOTE"
   ]
  },
  {
   "cell_type": "code",
   "execution_count": 105,
   "metadata": {},
   "outputs": [
    {
     "name": "stdout",
     "output_type": "stream",
     "text": [
      "Before Counter({0: 84746, 1: 9564})\n",
      "After Counter({0: 84746, 1: 84746})\n"
     ]
    },
    {
     "data": {
      "image/png": "[encoded data removed]",
      "text/plain": [
       "<Figure size 640x480 with 1 Axes>"
      ]
     },
     "metadata": {},
     "output_type": "display_data"
    }
   ],
   "source": [
    "file_path1 = \"D:\\\\ml\\\\xgboost-main\\\\data\\\\RT-IoT\\\\smote_data.csv\"           #file_path to smote_data.csv\n",
    "#generate new data by SMOTE\n",
    "con = Counter(y_train)\n",
    "print(\"Before\", con)\n",
    "smote = SMOTE(random_state=42)\n",
    "X_train_sm, y_train_sm = smote.fit_resample(X_train, y_train)\n",
    "con1 = Counter(y_train_sm)\n",
    "print(\"After\", con1)\n",
    "pd.Series(y_train_sm).value_counts().plot.bar()\n",
    "\n",
    "#concat smote train X & y && save data\n",
    "df_train = pd.concat([X_train_sm, y_train_sm], axis=1)          #concat smote train X & y\n",
    "df_train['source'] = np.nan                                     #new column = \"NaN\"\n",
    "df_train = df_train.combine_first(df_original)                  #combine data\n",
    "df_train['source'] = df_train['source'].fillna('smote') \n",
    "generated_data = df_train[df_train['source'] == \"smote\"]\n",
    "if not os.path.exists(file_path1):                              #save if exists\n",
    "    generated_data.to_csv(file_path1, index=False)\n",
    "else:\n",
    "    print(f'Plik istnieje pod ścieżką: {file_path1}') "
   ]
  },
  {
   "cell_type": "markdown",
   "metadata": {},
   "source": [
    "### OverSampling - BorderLineSMOTE"
   ]
  },
  {
   "cell_type": "code",
   "execution_count": 104,
   "metadata": {},
   "outputs": [
    {
     "name": "stdout",
     "output_type": "stream",
     "text": [
      "Before Counter({0: 84746, 1: 9564})\n",
      "After Counter({0: 84746, 1: 84746})\n",
      "Plik istnieje pod ścieżką: D:\\ml\\xgboost-main\\data\\RT-IoT\\boarderlinesmote_data.csv\n"
     ]
    },
    {
     "data": {
      "image/png": "[encoded data removed]",
      "text/plain": [
       "<Figure size 640x480 with 1 Axes>"
      ]
     },
     "metadata": {},
     "output_type": "display_data"
    }
   ],
   "source": [
    "file_path2 = \"D:\\\\ml\\\\xgboost-main\\\\data\\\\RT-IoT\\\\boarderlinesmote_data.csv\"           #file_path to smote_data.csv\n",
    "#generate new data by SMOTE\n",
    "con = Counter(y_train)\n",
    "print(\"Before\", con)\n",
    "borderlineSMOTE = BorderlineSMOTE(random_state=42)\n",
    "X_train_bsm, y_train_bsm = borderlineSMOTE.fit_resample(X_train, y_train)\n",
    "con1 = Counter(y_train_bsm)\n",
    "print(\"After\", con1)\n",
    "pd.Series(y_train_bsm).value_counts().plot.bar()\n",
    "\n",
    "#concat borderlinesmote train X & y && save data\n",
    "df_train = pd.concat([X_train_bsm, y_train_bsm], axis=1)          #concat smote train X & y\n",
    "df_train['source'] = np.nan                                     #new column = \"NaN\"\n",
    "df_train = df_train.combine_first(df_original)                  #combine data\n",
    "df_train['source'] = df_train['source'].fillna('borderlinesmote') \n",
    "generated_data = df_train[df_train['source'] == \"borderlinesmote\"]\n",
    "if not os.path.exists(file_path2):                              #save if exists\n",
    "    generated_data.to_csv(file_path2, index=False)\n",
    "else:\n",
    "    print(f'Plik istnieje pod ścieżką: {file_path2}') "
   ]
  },
  {
   "cell_type": "markdown",
   "metadata": {},
   "source": [
    "### OverSampling - GAN"
   ]
  },
  {
   "cell_type": "code",
   "execution_count": 109,
   "metadata": {},
   "outputs": [
    {
     "name": "stdout",
     "output_type": "stream",
     "text": [
      "Before Counter({0: 84746, 1: 9564})\n"
     ]
    },
    {
     "ename": "MemoryError",
     "evalue": "Unable to allocate 15.6 GiB for an array with shape (9564, 218671) and data type float64",
     "output_type": "error",
     "traceback": [
      "\u001b[1;31m---------------------------------------------------------------------------\u001b[0m",
      "\u001b[1;31mMemoryError\u001b[0m                               Traceback (most recent call last)",
      "Cell \u001b[1;32mIn[109], line 12\u001b[0m\n\u001b[0;32m     10\u001b[0m \u001b[38;5;28;01mif\u001b[39;00m target_num[\u001b[38;5;241m0\u001b[39m] \u001b[38;5;241m>\u001b[39m target_num[\u001b[38;5;241m1\u001b[39m]:\n\u001b[0;32m     11\u001b[0m     data_y1 \u001b[38;5;241m=\u001b[39m df_original[df_original[\u001b[38;5;124m'\u001b[39m\u001b[38;5;124mlabel\u001b[39m\u001b[38;5;124m'\u001b[39m]\u001b[38;5;241m==\u001b[39m\u001b[38;5;241m1\u001b[39m]\n\u001b[1;32m---> 12\u001b[0m     \u001b[43mctgan\u001b[49m\u001b[38;5;241;43m.\u001b[39;49m\u001b[43mfit\u001b[49m\u001b[43m(\u001b[49m\u001b[43mdata_y1\u001b[49m\u001b[43m,\u001b[49m\u001b[43m \u001b[49m\u001b[43mcolumns_list\u001b[49m\u001b[43m)\u001b[49m\n\u001b[0;32m     13\u001b[0m     sample \u001b[38;5;241m=\u001b[39m \u001b[38;5;28mabs\u001b[39m(target_num[\u001b[38;5;241m0\u001b[39m]\u001b[38;5;241m-\u001b[39mtarget_num[\u001b[38;5;241m1\u001b[39m])\n\u001b[0;32m     14\u001b[0m     df_GAN \u001b[38;5;241m=\u001b[39m ctgan\u001b[38;5;241m.\u001b[39msample(sample)\n",
      "File \u001b[1;32mc:\\Users\\mateu\\anaconda3\\envs\\python8\\lib\\site-packages\\ctgan\\synthesizers\\base.py:50\u001b[0m, in \u001b[0;36mrandom_state.<locals>.wrapper\u001b[1;34m(self, *args, **kwargs)\u001b[0m\n\u001b[0;32m     48\u001b[0m \u001b[38;5;28;01mdef\u001b[39;00m \u001b[38;5;21mwrapper\u001b[39m(\u001b[38;5;28mself\u001b[39m, \u001b[38;5;241m*\u001b[39margs, \u001b[38;5;241m*\u001b[39m\u001b[38;5;241m*\u001b[39mkwargs):\n\u001b[0;32m     49\u001b[0m     \u001b[38;5;28;01mif\u001b[39;00m \u001b[38;5;28mself\u001b[39m\u001b[38;5;241m.\u001b[39mrandom_states \u001b[38;5;129;01mis\u001b[39;00m \u001b[38;5;28;01mNone\u001b[39;00m:\n\u001b[1;32m---> 50\u001b[0m         \u001b[38;5;28;01mreturn\u001b[39;00m \u001b[43mfunction\u001b[49m\u001b[43m(\u001b[49m\u001b[38;5;28;43mself\u001b[39;49m\u001b[43m,\u001b[49m\u001b[43m \u001b[49m\u001b[38;5;241;43m*\u001b[39;49m\u001b[43margs\u001b[49m\u001b[43m,\u001b[49m\u001b[43m \u001b[49m\u001b[38;5;241;43m*\u001b[39;49m\u001b[38;5;241;43m*\u001b[39;49m\u001b[43mkwargs\u001b[49m\u001b[43m)\u001b[49m\n\u001b[0;32m     52\u001b[0m     \u001b[38;5;28;01melse\u001b[39;00m:\n\u001b[0;32m     53\u001b[0m         \u001b[38;5;28;01mwith\u001b[39;00m set_random_states(\u001b[38;5;28mself\u001b[39m\u001b[38;5;241m.\u001b[39mrandom_states, \u001b[38;5;28mself\u001b[39m\u001b[38;5;241m.\u001b[39mset_random_state):\n",
      "File \u001b[1;32mc:\\Users\\mateu\\anaconda3\\envs\\python8\\lib\\site-packages\\ctgan\\synthesizers\\ctgan.py:321\u001b[0m, in \u001b[0;36mCTGAN.fit\u001b[1;34m(self, train_data, discrete_columns, epochs)\u001b[0m\n\u001b[0;32m    318\u001b[0m \u001b[38;5;28mself\u001b[39m\u001b[38;5;241m.\u001b[39m_transformer \u001b[38;5;241m=\u001b[39m DataTransformer()\n\u001b[0;32m    319\u001b[0m \u001b[38;5;28mself\u001b[39m\u001b[38;5;241m.\u001b[39m_transformer\u001b[38;5;241m.\u001b[39mfit(train_data, discrete_columns)\n\u001b[1;32m--> 321\u001b[0m train_data \u001b[38;5;241m=\u001b[39m \u001b[38;5;28;43mself\u001b[39;49m\u001b[38;5;241;43m.\u001b[39;49m\u001b[43m_transformer\u001b[49m\u001b[38;5;241;43m.\u001b[39;49m\u001b[43mtransform\u001b[49m\u001b[43m(\u001b[49m\u001b[43mtrain_data\u001b[49m\u001b[43m)\u001b[49m\n\u001b[0;32m    323\u001b[0m \u001b[38;5;28mself\u001b[39m\u001b[38;5;241m.\u001b[39m_data_sampler \u001b[38;5;241m=\u001b[39m DataSampler(\n\u001b[0;32m    324\u001b[0m     train_data, \u001b[38;5;28mself\u001b[39m\u001b[38;5;241m.\u001b[39m_transformer\u001b[38;5;241m.\u001b[39moutput_info_list, \u001b[38;5;28mself\u001b[39m\u001b[38;5;241m.\u001b[39m_log_frequency\n\u001b[0;32m    325\u001b[0m )\n\u001b[0;32m    327\u001b[0m data_dim \u001b[38;5;241m=\u001b[39m \u001b[38;5;28mself\u001b[39m\u001b[38;5;241m.\u001b[39m_transformer\u001b[38;5;241m.\u001b[39moutput_dimensions\n",
      "File \u001b[1;32mc:\\Users\\mateu\\anaconda3\\envs\\python8\\lib\\site-packages\\ctgan\\data_transformer.py:189\u001b[0m, in \u001b[0;36mDataTransformer.transform\u001b[1;34m(self, raw_data)\u001b[0m\n\u001b[0;32m    186\u001b[0m \u001b[38;5;28;01melse\u001b[39;00m:\n\u001b[0;32m    187\u001b[0m     column_data_list \u001b[38;5;241m=\u001b[39m \u001b[38;5;28mself\u001b[39m\u001b[38;5;241m.\u001b[39m_parallel_transform(raw_data, \u001b[38;5;28mself\u001b[39m\u001b[38;5;241m.\u001b[39m_column_transform_info_list)\n\u001b[1;32m--> 189\u001b[0m \u001b[38;5;28;01mreturn\u001b[39;00m \u001b[43mnp\u001b[49m\u001b[38;5;241;43m.\u001b[39;49m\u001b[43mconcatenate\u001b[49m\u001b[43m(\u001b[49m\u001b[43mcolumn_data_list\u001b[49m\u001b[43m,\u001b[49m\u001b[43m \u001b[49m\u001b[43maxis\u001b[49m\u001b[38;5;241;43m=\u001b[39;49m\u001b[38;5;241;43m1\u001b[39;49m\u001b[43m)\u001b[49m\u001b[38;5;241;43m.\u001b[39;49m\u001b[43mastype\u001b[49m\u001b[43m(\u001b[49m\u001b[38;5;28;43mfloat\u001b[39;49m\u001b[43m)\u001b[49m\n",
      "\u001b[1;31mMemoryError\u001b[0m: Unable to allocate 15.6 GiB for an array with shape (9564, 218671) and data type float64"
     ]
    }
   ],
   "source": [
    "file_path3 = \"D:\\\\ml\\\\xgboost-main\\\\data\\\\RT-IoT\\\\GAN_data.csv\"        #sciezka wraz z nazwa pod jaka wygenerowac plik\n",
    "con = Counter(y_train)\n",
    "print(\"Before\", con)\n",
    "ctgan = CTGAN(epochs=2)\n",
    "columns_list = df_original.columns\n",
    "target_num = df_original['label'].value_counts()\n",
    "\n",
    "chunk = 25000\n",
    "\n",
    "if target_num[0] > target_num[1]:\n",
    "    data_y1 = df_original[df_original['label']==1]\n",
    "    ctgan.fit(data_y1, columns_list)\n",
    "    sample = abs(target_num[0]-target_num[1])\n",
    "    df_GAN = ctgan.sample(sample)\n",
    "    print('Dane wygenerowane: ', df_GAN['label'].value_counts())\n",
    "    balanced_data = pd.concat([df_original, df_GAN], ignore_index=False)\n",
    "else:\n",
    "    data_y0 = df_original[df_original['label']==0]\n",
    "    ctgan.fit(data_y0, columns_list)\n",
    "    sample = abs(target_num[0]-target_num[1])\n",
    "    df_GAN = ctgan.sample(sample)\n",
    "    print('Dane wygenerowane: ', df_GAN['label'].value_counts())\n",
    "    balanced_data = pd.concat([df_original, df_GAN], ignore_index=False)\n",
    "\n",
    "\n",
    "y_bal = balanced_data[\"label\"]\n",
    "X_bal = balanced_data.drop(columns=[\"label\"])\n",
    "X_train_gan, _, y_train_gan, _ = train_test_split(X_bal, y_bal, test_size=0.2, stratify=y_bal)\n",
    "\n",
    "# concat gan train X & y && save data\n",
    "df_train = pd.concat([X_train_gan, y_train_gan], axis=1)          #concat smote train X & y\n",
    "df_train['source'] = np.nan                                     #new column = \"NaN\"\n",
    "df_train = df_train.combine_first(df_original)                  #combine data\n",
    "df_train['source'] = df_train['source'].fillna('gan') \n",
    "generated_data = df_train[df_train['source'] == \"gan\"]\n",
    "if not os.path.exists(file_path2):                              #save if exists\n",
    "    generated_data.to_csv(file_path2, index=False)\n",
    "else:\n",
    "    print(f'Plik istnieje pod ścieżką: {file_path2}') \n"
   ]
  },
  {
   "cell_type": "code",
   "execution_count": null,
   "metadata": {},
   "outputs": [],
   "source": [
    "models = {\n",
    "    \n",
    "    \"LR\": LogisticRegression(),             # logistic regression dla niezbalansowanych \n",
    "    \"LR_SMOTE\": LogisticRegression(),       # logistic regression dla zbalansowanych SMOTE\n",
    "    \"LR_BrdSMOTE\": LogisticRegression(),    # logistic regression dla zbalansowanych BoarderrLineSMOTE\n",
    "    \"LR_GAN\": LogisticRegression(),         # logistic regression dla zbalansowanych GAN\n",
    "    \n",
    "    \"DT\": DecisionTreeClassifier(),             # decision tree dla niezbalansowanych\n",
    "    \"DT_SMOTE\": DecisionTreeClassifier(),       # decision tree dla zbalansowanych SMOTE\n",
    "    \"DT_BrdSMOTE\": DecisionTreeClassifier(),     # decision tree dla zbalansowanych BoarderrLineSMOTE\n",
    "    \"DT_GAN\": DecisionTreeClassifier(),          # decision tree dla zbalansowanych GAN\n",
    "    \n",
    "    \"RF\": RandomForestClassifier(),             # random forest dla niezbalansowanych\n",
    "    \"RF_SMOTE\": RandomForestClassifier(),       # random forest dla zbalansowanych SMOTE\n",
    "    \"RF_BrdSMOTE\": RandomForestClassifier(),    # random forest dla zbalansowanych BoarderrLineSMOTE\n",
    "    \"RF_GAN\": RandomForestClassifier(),        # random forest dla zbalansowanych GAN\n",
    "    \n",
    "    \"XGB\": XGBClassifier(),           # xgboost dla niezbalansowanych\n",
    "    \"XGB_SMOTE\": XGBClassifier(),     # xgboost dla zbalansowanych SMOTE\n",
    "    \"XGB_BrdSMOTE\": XGBClassifier(),    # xgboost dla zbalansowanych BoarderrLineSMOTE\n",
    "    \"XGB_GAN\": XGBClassifier(),       # xgboost dla zbalansowanych GAN\n",
    "    \n",
    "    \"XGB_RF\": XGBRFClassifier(),            # xgboost rf dla niezbalansowanych\n",
    "    \"XGB_RF_SMOTE\": XGBRFClassifier(),         # xgboost rf dla zbalansowanych SMOTE\n",
    "    \"XGB_RF_BrdSMOTE\": XGBRFClassifier(),   # xgboost rf dla zbalansowanych BoarderrLineSMOTE\n",
    "    \"XGB_RF_GAN\": XGBRFClassifier()          # xgboost rf dla zbalansowanych GAN\n",
    "}\n",
    "\n",
    "fit_data = {\n",
    "    \n",
    "    \"LR\": (X_train, y_train),\n",
    "    \"LR_SMOTE\": (X_train_sm, y_train_sm),\n",
    "    \"LR_BrdSMOTE\": (X_train_bsm, y_train_bsm),\n",
    "    \"LR_GAN\": (X_train_gan, y_train_gan),\n",
    "    \n",
    "    \"DT\": (X_train, y_train),\n",
    "    \"DT_SMOTE\": (X_train_sm, y_train_sm),\n",
    "    \"DT_BrdSMOTE\": (X_train_bsm, y_train_bsm),\n",
    "    \"DT_GAN\": (X_train_gan, y_train_gan),\n",
    "    \n",
    "    \"RF\": (X_train, y_train),\n",
    "    \"RF_SMOTE\": (X_train_sm, y_train_sm),\n",
    "    \"RF_BrdSMOTE\": (X_train_bsm, y_train_bsm),\n",
    "    \"RF_GAN\": (X_train_gan, y_train_gan),\n",
    "    \n",
    "    \"XGB\": (X_train, y_train),\n",
    "    \"XGB_SMOTE\": (X_train_sm, y_train_sm),\n",
    "    \"XGB_BrdSMOTE\": (X_train_bsm, y_train_bsm),\n",
    "    \"XGB_GAN\": (X_train_gan, y_train_gan),\n",
    "\n",
    "    \"XGB_RF\": (X_train, y_train),\n",
    "    \"XGB_RF_SMOTE\": (X_train_sm, y_train_sm),\n",
    "    \"XGB_RF_BrdSMOTE\": (X_train_bsm, y_train_bsm),\n",
    "    \"XGB_RF_GAN\": (X_train_gan, y_train_gan)\n",
    "}\n"
   ]
  },
  {
   "cell_type": "markdown",
   "metadata": {},
   "source": [
    "### GridSearch"
   ]
  },
  {
   "cell_type": "code",
   "execution_count": null,
   "metadata": {},
   "outputs": [],
   "source": [
    "\n",
    "# PARAMS to Search\n",
    "params_LR = {                               # dla LR\n",
    "    #'class_weight':['balanced', 'none'],   # wagi dla poszczegolnych klas\n",
    "    'max_iter':[100,500,1000]  ,\n",
    "    'random_state':[0,10,20,30,40]        # ustalona losowość dla powtarzalności\n",
    "                # ilosc iteracji\n",
    "}\n",
    "\n",
    "params_DT = {                               # dla DT\n",
    "    'max_depth':[4,8,12,16],                # maksymalna głębokość drzewa\n",
    "    'random_state':[0,10,20,30,40],         # ustalona losowość dla powtarzalności\n",
    "    'min_samples_leaf':[1,2]                # minimalna ilosc probek lisci\n",
    "}\n",
    "\n",
    "params_RF = {\n",
    "    'n_estimators':[20,40,60,80,100],       # rozmiar lasu\n",
    "    'max_depth':[4,8,12,16],                # maksymalna głębokość drzewa\n",
    "    'min_samples_leaf':[1,2],               # minimalna ilosc probek lisci\n",
    "    'random_state':[0,10,20,30,40],         # ustalona losowość dla powtarzalności\n",
    "}\n",
    "\n",
    "params_XGB = {                              # dla XGBoost\n",
    "    'max_depth':[4,8,12,16],                # maksymalna głębokość drzewa\n",
    "    'subsample':[0.5,0.6,0.7,0.8,0.9,1]\n",
    "}\n",
    "\n",
    "params_XGB_RF = {                           # dla XGBoost RF\n",
    "    'max_depth':[4,8,12,16],                # maksymalna głębokość drzewa\n",
    "    'n_estimators':[20,40,60,80,100],       # rozmiar lasu\n",
    "    'subsample':[0.5,0.6,0.7,0.8,0.9,1],\n",
    "    'random_state':[0,10,20,30,40]          # ustalona losowość dla powtarzalności\n",
    "}\n",
    "\n",
    "goal = ['precision', 'recall', 'f1', 'accuracy'] \n",
    "call = \"GAN\"\n",
    "file_path = \"D:\\\\ml\\\\xgboost-main\\\\reports\\\\best params\\\\GAN.txt\"\n",
    "\n",
    "for score_1 in goal:\n",
    "    \n",
    "    model_LR = LogisticRegression()\n",
    "    model_LR_SMOTE = LogisticRegression()\n",
    "    model_LR_BrdSMOTE = LogisticRegression()\n",
    "    model_LR_GAN = LogisticRegression()\n",
    "    model_DT = DecisionTreeClassifier()\n",
    "    model_DT_SMOTE = DecisionTreeClassifier()\n",
    "    model_DT_BrdSMOTE = DecisionTreeClassifier()\n",
    "    model_DT_GAN = DecisionTreeClassifier()\n",
    "    model_RF = RandomForestClassifier()\n",
    "    model_RF_SMOTE = RandomForestClassifier()\n",
    "    model_RF_BrdSMOTE = RandomForestClassifier()\n",
    "    model_RF_GAN = RandomForestClassifier()\n",
    "    model_XGB = XGBClassifier()\n",
    "    model_XGB_SMOTE = XGBClassifier()\n",
    "    model_XGB_BrdSMOTE = XGBClassifier()\n",
    "    model_XGB_GAN = XGBClassifier()\n",
    "    model_XGB_RF = XGBRFClassifier()\n",
    "    model_XGB_RF_SMOTE = XGBRFClassifier()\n",
    "    model_XGB_RF_BrdSMOTE = XGBRFClassifier()\n",
    "    model_XGB_RF_GAN = XGBRFClassifier()\n",
    "    \n",
    "    model_LR_GAN = GridSearchCV(model_LR_GAN,param_grid=params_LR,scoring=score_1).fit(X_train_gan,y_train_gan)\n",
    "    model_DT_GAN = GridSearchCV(model_DT_GAN,param_grid=params_DT,scoring=score_1).fit(X_train_gan,y_train_gan)\n",
    "    model_RF_GAN = GridSearchCV(model_RF_GAN,param_grid=params_RF,scoring=score_1).fit(X_train_gan,y_train_gan)\n",
    "    model_XGB_GAN = GridSearchCV(model_XGB_GAN,param_grid=params_XGB, scoring=score_1).fit(X_train_gan,y_train_gan)\n",
    "    model_XGB_RF_GAN = GridSearchCV(model_XGB_RF_GAN,param_grid=params_XGB_RF,scoring=score_1).fit(X_train_gan,y_train_gan)\n",
    "    \n",
    "    with open(file_path, \"a+\") as f:\n",
    "        print(f'scoring: {score_1}', file=f)\n",
    "        print(f'Best parameters for {score_1} & LR + {call}:', model_LR_GAN.best_params_, file=f)\n",
    "        print(f'Best score for {score_1} & LR + {call}:', model_LR_GAN.best_score_, file=f)\n",
    "        print(f'Best parameters for {score_1} & DT + {call}:', model_DT_GAN.best_params_, file=f)\n",
    "        print(f'Best score for {score_1} & DT + {call}:', model_DT_GAN.best_score_, file=f)\n",
    "        print(f'Best parameters for {score_1} & RF + {call}:', model_RF_GAN.best_params_, file=f)\n",
    "        print(f'Best score for {score_1} & RF + {call}:', model_RF_GAN.best_score_, file=f)\n",
    "        print(f'Best parameters for {score_1} & XGB + {call}:', model_XGB_GAN.best_params_, file=f)\n",
    "        print(f'Best score for {score_1} & XGB + {call}:', model_XGB_GAN.best_score_, file=f)\n",
    "        print(f'Best parameters for {score_1} & XGB RF + {call}:', model_XGB_RF_GAN.best_params_, file=f)\n",
    "        print(f'Best score for {score_1} & XGB RF + {call}:', model_XGB_RF_GAN.best_score_, file=f)"
   ]
  },
  {
   "cell_type": "code",
   "execution_count": null,
   "metadata": {},
   "outputs": [],
   "source": [
    "path_files = [\"D:\\\\ml\\\\xgboost-main\\\\reports\\\\gridsearch_spambase\\\\precision_metrics.txt\", \"D:\\\\ml\\\\xgboost-main\\\\reports\\\\gridsearch_spambase\\\\f1_metrics.txt\", \"D:\\\\ml\\\\xgboost-main\\\\reports\\\\gridsearch_spambase\\\\recall_metrics.txt\", \"D:\\\\ml\\\\xgboost-main\\\\reports\\\\gridsearch_spambase\\\\accuracy_metrics.txt\"]\n",
    "excel_file = \"D:\\\\ml\\\\xgboost-main\\\\reports\\\\gridsearch_spambase\\\\metrics.xlsx\"\n",
    "name_sheet = \"Arkusz1\"\n",
    "results = []\n",
    "goal = ['precision', 'recall', 'f1', 'accuracy']\n",
    "call = ['unbalanced','SMOTE','BorderLine SMOTE','GAN']\n",
    "\n",
    "for metrix1, path_file in zip(goal, path_files):\n",
    "    for model_name, model in models.items():\n",
    "        with open(path_file, \"a+\") as f:\n",
    "            X_train, y_train = fit_data[model_name]\n",
    "            model_Grid = GridSearchCV(model,param_grid=params_LR,scoring=score_1).fit(X_train_gan,y_train_gan)"
   ]
  },
  {
   "cell_type": "markdown",
   "metadata": {},
   "source": [
    "### CrossVal"
   ]
  },
  {
   "cell_type": "code",
   "execution_count": null,
   "metadata": {},
   "outputs": [],
   "source": [
    "cv = RepeatedStratifiedKFold(n_splits=10, n_repeats=10, random_state=42, )\n",
    "goal = ['precision','f1','recall','accuracy']\n",
    "path_files = [\"D:\\\\ml\\\\xgboost-main\\\\reports\\\\Results\\\\undersampling\\\\metrics\\\\precision_metrics.txt\", \"D:\\\\ml\\\\xgboost-main\\\\reports\\\\Results\\\\undersampling\\\\metrics\\\\f1_metrics.txt\", \"D:\\\\ml\\\\xgboost-main\\\\reports\\\\Results\\\\undersampling\\\\metrics\\\\recall_metrics.txt\", \"D:\\\\ml\\\\xgboost-main\\\\reports\\\\Results\\\\undersampling\\\\metrics\\\\accuracy_metrics.txt\"]\n",
    "excel_file = \"D:\\\\ml\\\\xgboost-main\\\\reports\\\\Results\\\\undersampling\\\\metrics.xlsx\"\n",
    "name_sheet = \"Arkusz2\"\n",
    "results = []\n",
    "\n",
    "for metrix1, path_file in zip(goal, path_files):\n",
    "    for model_name, model in models.items():\n",
    "        with open(path_file, \"a+\") as f:\n",
    "            # Pobieramy odpowiednie dane do trenowania dla bieżącego modelu\n",
    "            X_train, y_train = fit_data[model_name]\n",
    "            cross_val_results = cross_val_score(model, X_train, y_train, cv=cv, scoring=metrix1, n_jobs=1)\n",
    "            \n",
    "            #zapis do excel\n",
    "            results.append({\n",
    "            \"Model\": model_name,\n",
    "            \"Metric\": metrix1,\n",
    "            \"Result\": cross_val_results.mean()})\n",
    "            df_results = pd.DataFrame(results)\n",
    "            df_save = df_results.pivot(index=\"Metric\", columns=\"Model\", values=\"Result\")\n",
    "            with pd.ExcelFile(excel_file) as w:\n",
    "                df_results.to_excel(w, sheet_name=name_sheet)\n",
    "                \n",
    "                \n",
    "            # Zapis wyników do pliku txt\n",
    "            print(f'{model_name} Cross-Validation Results {metrix1}:\\n {cross_val_results}', file=f)\n",
    "            print(f'Mean {metrix1}: {cross_val_results.mean()}', file=f)\n",
    "            print(f'Dev: {cross_val_results.std()}', file=f)\n",
    "            print(\"\\n\", file=f)"
   ]
  }
 ],
 "metadata": {
  "kernelspec": {
   "display_name": "python8",
   "language": "python",
   "name": "python3"
  },
  "language_info": {
   "codemirror_mode": {
    "name": "ipython",
    "version": 3
   },
   "file_extension": ".py",
   "mimetype": "text/x-python",
   "name": "python",
   "nbconvert_exporter": "python",
   "pygments_lexer": "ipython3",
   "version": "3.8.20"
  }
 },
 "nbformat": 4,
 "nbformat_minor": 2
}
